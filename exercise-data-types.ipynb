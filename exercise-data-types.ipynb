{
 "cells": [
  {
   "cell_type": "markdown",
   "id": "57b9f131",
   "metadata": {
    "papermill": {
     "duration": 0.006163,
     "end_time": "2024-11-26T16:03:21.501238",
     "exception": false,
     "start_time": "2024-11-26T16:03:21.495075",
     "status": "completed"
    },
    "tags": []
   },
   "source": [
    "**This notebook is an exercise in the [Intro to Programming](https://www.kaggle.com/learn/intro-to-programming) course.  You can reference the tutorial at [this link](https://www.kaggle.com/alexisbcook/data-types).**\n",
    "\n",
    "---\n"
   ]
  },
  {
   "cell_type": "markdown",
   "id": "155f9086",
   "metadata": {
    "papermill": {
     "duration": 0.005202,
     "end_time": "2024-11-26T16:03:21.512692",
     "exception": false,
     "start_time": "2024-11-26T16:03:21.507490",
     "status": "completed"
    },
    "tags": []
   },
   "source": [
    "In the tutorial, you learned about four different data types: floats, integers, strings, and booleans.  In this exercise, you'll experiment with them.\n",
    "\n",
    "# Set up the notebook\n",
    "\n",
    "Run the next code cell without changes to set up the notebook."
   ]
  },
  {
   "cell_type": "code",
   "execution_count": 1,
   "id": "56ddff85",
   "metadata": {
    "execution": {
     "iopub.execute_input": "2024-11-26T16:03:21.525463Z",
     "iopub.status.busy": "2024-11-26T16:03:21.525072Z",
     "iopub.status.idle": "2024-11-26T16:03:22.529289Z",
     "shell.execute_reply": "2024-11-26T16:03:22.528056Z"
    },
    "papermill": {
     "duration": 1.013474,
     "end_time": "2024-11-26T16:03:22.531962",
     "exception": false,
     "start_time": "2024-11-26T16:03:21.518488",
     "status": "completed"
    },
    "tags": []
   },
   "outputs": [
    {
     "name": "stdout",
     "output_type": "stream",
     "text": [
      "Setup complete.\n"
     ]
    }
   ],
   "source": [
    "# Set up the exercise\n",
    "from learntools.core import binder\n",
    "binder.bind(globals())\n",
    "from learntools.intro_to_programming.ex3 import *\n",
    "print('Setup complete.')"
   ]
  },
  {
   "cell_type": "code",
   "execution_count": 2,
   "id": "c4e90607",
   "metadata": {
    "execution": {
     "iopub.execute_input": "2024-11-26T16:03:22.547039Z",
     "iopub.status.busy": "2024-11-26T16:03:22.546386Z",
     "iopub.status.idle": "2024-11-26T16:03:22.552940Z",
     "shell.execute_reply": "2024-11-26T16:03:22.551777Z"
    },
    "papermill": {
     "duration": 0.016631,
     "end_time": "2024-11-26T16:03:22.555167",
     "exception": false,
     "start_time": "2024-11-26T16:03:22.538536",
     "status": "completed"
    },
    "tags": []
   },
   "outputs": [
    {
     "name": "stdout",
     "output_type": "stream",
     "text": [
      "Setup complete.\n"
     ]
    }
   ],
   "source": [
    "# Set up the exercise\n",
    "from learntools.core import binder\n",
    "binder.bind(globals())\n",
    "from learntools.intro_to_programming.ex3 import *\n",
    "print('Setup complete.')"
   ]
  },
  {
   "cell_type": "markdown",
   "id": "b7dc5700",
   "metadata": {
    "papermill": {
     "duration": 0.005612,
     "end_time": "2024-11-26T16:03:22.567438",
     "exception": false,
     "start_time": "2024-11-26T16:03:22.561826",
     "status": "completed"
    },
    "tags": []
   },
   "source": [
    "# Question 1\n",
    "\n",
    "You have seen how to convert a float to an integer with the `int` function.  Try this out yourself by running the code cell below."
   ]
  },
  {
   "cell_type": "code",
   "execution_count": 3,
   "id": "9c8e49b3",
   "metadata": {
    "execution": {
     "iopub.execute_input": "2024-11-26T16:03:22.580747Z",
     "iopub.status.busy": "2024-11-26T16:03:22.580365Z",
     "iopub.status.idle": "2024-11-26T16:03:22.587155Z",
     "shell.execute_reply": "2024-11-26T16:03:22.585605Z"
    },
    "papermill": {
     "duration": 0.016863,
     "end_time": "2024-11-26T16:03:22.589804",
     "exception": false,
     "start_time": "2024-11-26T16:03:22.572941",
     "status": "completed"
    },
    "tags": []
   },
   "outputs": [
    {
     "name": "stdout",
     "output_type": "stream",
     "text": [
      "1.0\n",
      "<class 'float'>\n",
      "1\n",
      "<class 'int'>\n"
     ]
    }
   ],
   "source": [
    "# Define a float\n",
    "y = 1.\n",
    "print(y)\n",
    "print(type(y))\n",
    "\n",
    "# Convert float to integer with the int function\n",
    "z = int(y)\n",
    "print(z)\n",
    "print(type(z))"
   ]
  },
  {
   "cell_type": "markdown",
   "id": "e81260ed",
   "metadata": {
    "papermill": {
     "duration": 0.00548,
     "end_time": "2024-11-26T16:03:22.601240",
     "exception": false,
     "start_time": "2024-11-26T16:03:22.595760",
     "status": "completed"
    },
    "tags": []
   },
   "source": [
    "In this case, the float you are using has no numbers after the decimal.  \n",
    "- But what happens when you try to convert a float with a fractional part to an integer?  \n",
    "- How does the outcome of the `int` function change for positive and negative numbers?\n",
    "\n",
    "Use the next code cell to investigate and answer these questions.  Feel free to add or remove any lines of code -- it is your workspace!"
   ]
  },
  {
   "cell_type": "code",
   "execution_count": 4,
   "id": "dcd30ca1",
   "metadata": {
    "execution": {
     "iopub.execute_input": "2024-11-26T16:03:22.614835Z",
     "iopub.status.busy": "2024-11-26T16:03:22.613976Z",
     "iopub.status.idle": "2024-11-26T16:03:22.619701Z",
     "shell.execute_reply": "2024-11-26T16:03:22.618657Z"
    },
    "papermill": {
     "duration": 0.015247,
     "end_time": "2024-11-26T16:03:22.622305",
     "exception": false,
     "start_time": "2024-11-26T16:03:22.607058",
     "status": "completed"
    },
    "tags": []
   },
   "outputs": [
    {
     "name": "stdout",
     "output_type": "stream",
     "text": [
      "1\n",
      "1\n",
      "-3\n",
      "-2\n"
     ]
    }
   ],
   "source": [
    "# Uncomment and run this code to get started!\n",
    "print(int(1.2321))\n",
    "print(int(1.747))\n",
    "print(int(-3.94535))\n",
    "print(int(-2.19774))"
   ]
  },
  {
   "cell_type": "markdown",
   "id": "ebe285f8",
   "metadata": {
    "papermill": {
     "duration": 0.00535,
     "end_time": "2024-11-26T16:03:22.634049",
     "exception": false,
     "start_time": "2024-11-26T16:03:22.628699",
     "status": "completed"
    },
    "tags": []
   },
   "source": [
    "Once you have an answer, run the code cell below to see the solution.  Viewing the solution will give you credit for answering the problem."
   ]
  },
  {
   "cell_type": "code",
   "execution_count": 5,
   "id": "5a798e11",
   "metadata": {
    "execution": {
     "iopub.execute_input": "2024-11-26T16:03:22.647708Z",
     "iopub.status.busy": "2024-11-26T16:03:22.647312Z",
     "iopub.status.idle": "2024-11-26T16:03:22.657709Z",
     "shell.execute_reply": "2024-11-26T16:03:22.656521Z"
    },
    "papermill": {
     "duration": 0.020401,
     "end_time": "2024-11-26T16:03:22.660046",
     "exception": false,
     "start_time": "2024-11-26T16:03:22.639645",
     "status": "completed"
    },
    "tags": []
   },
   "outputs": [
    {
     "data": {
      "application/javascript": [
       "parent.postMessage({\"jupyterEvent\": \"custom.exercise_interaction\", \"data\": {\"outcomeType\": 1, \"valueTowardsCompletion\": 0.2, \"interactionType\": 1, \"questionType\": 4, \"questionId\": \"1_FloatToInt\", \"learnToolsVersion\": \"0.3.4\", \"failureMessage\": \"\", \"exceptionClass\": \"\", \"trace\": \"\"}}, \"*\")"
      ],
      "text/plain": [
       "<IPython.core.display.Javascript object>"
      ]
     },
     "metadata": {},
     "output_type": "display_data"
    },
    {
     "data": {
      "text/markdown": [
       "<span style=\"color:#33cc33\">Correct:</span> \n",
       "\n",
       "Negative floats are always rounded UP to the closest integer (for instance, both -1.1 and -1.9 are rounded up to -1). Positive floats are always rounded DOWN to the closest integer (for instance, 2.1 and 2.9 are rounded down to 2)."
      ],
      "text/plain": [
       "Correct: \n",
       "\n",
       "Negative floats are always rounded UP to the closest integer (for instance, both -1.1 and -1.9 are rounded up to -1). Positive floats are always rounded DOWN to the closest integer (for instance, 2.1 and 2.9 are rounded down to 2)."
      ]
     },
     "metadata": {},
     "output_type": "display_data"
    }
   ],
   "source": [
    "# Check your answer (Run this code cell to receive credit!)\n",
    "q1.check()"
   ]
  },
  {
   "cell_type": "markdown",
   "id": "2a191df5",
   "metadata": {
    "papermill": {
     "duration": 0.005593,
     "end_time": "2024-11-26T16:03:22.671778",
     "exception": false,
     "start_time": "2024-11-26T16:03:22.666185",
     "status": "completed"
    },
    "tags": []
   },
   "source": [
    "# Question 2\n",
    "\n",
    "In the tutorial, you learned about booleans (which can take a value of `True` or `False`), in addition to integers, floats, and strings.  For this question, your goal is to determine what happens when you multiply a boolean by any of these data types.  Specifically, \n",
    "- What happens when you multiply an integer or float by `True`?  What happens when you multiply them by `False`?  How does the answer change if the numbers are positive or negative?\n",
    "- What happens when you multiply a string by `True`?  By `False`?\n",
    "\n",
    "Use the next code cell for your investigation. "
   ]
  },
  {
   "cell_type": "code",
   "execution_count": 6,
   "id": "92d6b868",
   "metadata": {
    "execution": {
     "iopub.execute_input": "2024-11-26T16:03:22.686518Z",
     "iopub.status.busy": "2024-11-26T16:03:22.686081Z",
     "iopub.status.idle": "2024-11-26T16:03:22.692448Z",
     "shell.execute_reply": "2024-11-26T16:03:22.691212Z"
    },
    "papermill": {
     "duration": 0.016665,
     "end_time": "2024-11-26T16:03:22.694848",
     "exception": false,
     "start_time": "2024-11-26T16:03:22.678183",
     "status": "completed"
    },
    "tags": []
   },
   "outputs": [
    {
     "name": "stdout",
     "output_type": "stream",
     "text": [
      "3\n",
      "-3.1\n",
      "<class 'str'>\n",
      "0\n"
     ]
    }
   ],
   "source": [
    "# Uncomment and run this code to get started!\n",
    "print(3 * True)\n",
    "print(-3.1 * True)\n",
    "print(type(\"abc\" * False))\n",
    "print(len(\"abc\" * False))"
   ]
  },
  {
   "cell_type": "markdown",
   "id": "9f279a75",
   "metadata": {
    "papermill": {
     "duration": 0.006554,
     "end_time": "2024-11-26T16:03:22.707560",
     "exception": false,
     "start_time": "2024-11-26T16:03:22.701006",
     "status": "completed"
    },
    "tags": []
   },
   "source": [
    "Once you have an answer, run the code cell below to see the solution.  Viewing the solution will give you credit for answering the problem."
   ]
  },
  {
   "cell_type": "code",
   "execution_count": 7,
   "id": "c9dd59bc",
   "metadata": {
    "execution": {
     "iopub.execute_input": "2024-11-26T16:03:22.723348Z",
     "iopub.status.busy": "2024-11-26T16:03:22.722434Z",
     "iopub.status.idle": "2024-11-26T16:03:22.731772Z",
     "shell.execute_reply": "2024-11-26T16:03:22.730494Z"
    },
    "papermill": {
     "duration": 0.020398,
     "end_time": "2024-11-26T16:03:22.734197",
     "exception": false,
     "start_time": "2024-11-26T16:03:22.713799",
     "status": "completed"
    },
    "tags": []
   },
   "outputs": [
    {
     "data": {
      "application/javascript": [
       "parent.postMessage({\"jupyterEvent\": \"custom.exercise_interaction\", \"data\": {\"outcomeType\": 1, \"valueTowardsCompletion\": 0.2, \"interactionType\": 1, \"questionType\": 4, \"questionId\": \"2_MultiplyBooleans\", \"learnToolsVersion\": \"0.3.4\", \"failureMessage\": \"\", \"exceptionClass\": \"\", \"trace\": \"\"}}, \"*\")"
      ],
      "text/plain": [
       "<IPython.core.display.Javascript object>"
      ]
     },
     "metadata": {},
     "output_type": "display_data"
    },
    {
     "data": {
      "text/markdown": [
       "<span style=\"color:#33cc33\">Correct:</span> \n",
       "\n",
       "When you multiple an integer or float by a boolean with value `True`, it just returns that same integer or float (and is equivalent to multiplying by 1).  If you multiply an integer or float by a boolean with value `False`, it always returns 0.  This is true for both positive and negative numbers.  If you multiply a string by a boolean with value `True`, it just returns that same string.  And if you multiply a string by a boolean with value `False`, it returns an empty string (or a string with length zero)."
      ],
      "text/plain": [
       "Correct: \n",
       "\n",
       "When you multiple an integer or float by a boolean with value `True`, it just returns that same integer or float (and is equivalent to multiplying by 1).  If you multiply an integer or float by a boolean with value `False`, it always returns 0.  This is true for both positive and negative numbers.  If you multiply a string by a boolean with value `True`, it just returns that same string.  And if you multiply a string by a boolean with value `False`, it returns an empty string (or a string with length zero)."
      ]
     },
     "metadata": {},
     "output_type": "display_data"
    }
   ],
   "source": [
    "# Check your answer (Run this code cell to receive credit!)\n",
    "q2.check()"
   ]
  },
  {
   "cell_type": "markdown",
   "id": "596ce8f0",
   "metadata": {
    "papermill": {
     "duration": 0.006012,
     "end_time": "2024-11-26T16:03:22.746905",
     "exception": false,
     "start_time": "2024-11-26T16:03:22.740893",
     "status": "completed"
    },
    "tags": []
   },
   "source": [
    "# Question 3\n",
    "\n",
    "In this question, you will build off your work from the previous exercise to write a function that estimates the value of a house.\n",
    "\n",
    "Use the next code cell to create a function `get_expected_cost` that takes as input three variables:\n",
    "- `beds` - number of bedrooms (data type float)\n",
    "- `baths` - number of bathrooms (data type float)\n",
    "- `has_basement` - whether or not the house has a basement (data type boolean)\n",
    "\n",
    "It should return the expected cost of a house with those characteristics. Assume that:\n",
    "- the expected cost for a house with 0 bedrooms and 0 bathrooms, and no basement is 80000, \n",
    "- each bedroom adds 30000 to the expected cost,\n",
    "- each bathroom adds 10000 to the expected cost, and\n",
    "- a basement adds 40000 to the expected cost.\n",
    "\n",
    "For instance,\n",
    "- a house with 1 bedroom, 1 bathroom, and no basement has an expected cost of 80000 + 30000 + 10000 = 120000.  This value will be calculated with `get_expected_cost(1, 1, False)`.\n",
    "- a house with 2 bedrooms, 1 bathroom, and a basement has an expected cost of 80000 + 2*30000 + 10000 + 40000 = 190000.  This value will be calculated with `get_expected_cost(2, 1, True)`.\n",
    "\n",
    "Remember you can always get a hint by uncommenting `q3.hint()` in the code cell following the next!"
   ]
  },
  {
   "cell_type": "code",
   "execution_count": 8,
   "id": "ccc33879",
   "metadata": {
    "execution": {
     "iopub.execute_input": "2024-11-26T16:03:22.761352Z",
     "iopub.status.busy": "2024-11-26T16:03:22.760917Z",
     "iopub.status.idle": "2024-11-26T16:03:22.771153Z",
     "shell.execute_reply": "2024-11-26T16:03:22.770049Z"
    },
    "papermill": {
     "duration": 0.01975,
     "end_time": "2024-11-26T16:03:22.773213",
     "exception": false,
     "start_time": "2024-11-26T16:03:22.753463",
     "status": "completed"
    },
    "tags": []
   },
   "outputs": [
    {
     "data": {
      "application/javascript": [
       "parent.postMessage({\"jupyterEvent\": \"custom.exercise_interaction\", \"data\": {\"outcomeType\": 1, \"valueTowardsCompletion\": 0.2, \"interactionType\": 1, \"questionType\": 2, \"questionId\": \"3_EstimateHouseValueBool\", \"learnToolsVersion\": \"0.3.4\", \"failureMessage\": \"\", \"exceptionClass\": \"\", \"trace\": \"\"}}, \"*\")"
      ],
      "text/plain": [
       "<IPython.core.display.Javascript object>"
      ]
     },
     "metadata": {},
     "output_type": "display_data"
    },
    {
     "data": {
      "text/markdown": [
       "<span style=\"color:#33cc33\">Correct</span>"
      ],
      "text/plain": [
       "Correct"
      ]
     },
     "metadata": {},
     "output_type": "display_data"
    },
    {
     "name": "stdout",
     "output_type": "stream",
     "text": [
      "<function get_expected_cost at 0x7800e88c0160>\n"
     ]
    }
   ],
   "source": [
    "# TODO: Complete the function\n",
    "def get_expected_cost(beds, baths, has_basement):\n",
    "    value = 80000 + 30000 * beds + 10000 * baths + 40000 * has_basement\n",
    "    return value\n",
    "\n",
    "# Check your answer \n",
    "q3.check()\n",
    "\n",
    "print(get_expected_cost)"
   ]
  },
  {
   "cell_type": "code",
   "execution_count": 9,
   "id": "f484c2cd",
   "metadata": {
    "execution": {
     "iopub.execute_input": "2024-11-26T16:03:22.787858Z",
     "iopub.status.busy": "2024-11-26T16:03:22.787461Z",
     "iopub.status.idle": "2024-11-26T16:03:22.799729Z",
     "shell.execute_reply": "2024-11-26T16:03:22.798766Z"
    },
    "papermill": {
     "duration": 0.022435,
     "end_time": "2024-11-26T16:03:22.802015",
     "exception": false,
     "start_time": "2024-11-26T16:03:22.779580",
     "status": "completed"
    },
    "tags": []
   },
   "outputs": [
    {
     "data": {
      "application/javascript": [
       "parent.postMessage({\"jupyterEvent\": \"custom.exercise_interaction\", \"data\": {\"interactionType\": 2, \"questionType\": 2, \"questionId\": \"3_EstimateHouseValueBool\", \"learnToolsVersion\": \"0.3.4\", \"valueTowardsCompletion\": 0.0, \"failureMessage\": \"\", \"exceptionClass\": \"\", \"trace\": \"\", \"outcomeType\": 4}}, \"*\")"
      ],
      "text/plain": [
       "<IPython.core.display.Javascript object>"
      ]
     },
     "metadata": {},
     "output_type": "display_data"
    },
    {
     "data": {
      "text/markdown": [
       "<span style=\"color:#3366cc\">Hint:</span> The variable `has_basement` is either `True` or `False`.  What happens when you multiply it by 40000 (the value of a basement)?  Refer to the previous question if you are unsure."
      ],
      "text/plain": [
       "Hint: The variable `has_basement` is either `True` or `False`.  What happens when you multiply it by 40000 (the value of a basement)?  Refer to the previous question if you are unsure."
      ]
     },
     "metadata": {},
     "output_type": "display_data"
    },
    {
     "data": {
      "application/javascript": [
       "parent.postMessage({\"jupyterEvent\": \"custom.exercise_interaction\", \"data\": {\"interactionType\": 3, \"questionType\": 2, \"questionId\": \"3_EstimateHouseValueBool\", \"learnToolsVersion\": \"0.3.4\", \"valueTowardsCompletion\": 0.0, \"failureMessage\": \"\", \"exceptionClass\": \"\", \"trace\": \"\", \"outcomeType\": 4}}, \"*\")"
      ],
      "text/plain": [
       "<IPython.core.display.Javascript object>"
      ]
     },
     "metadata": {},
     "output_type": "display_data"
    },
    {
     "data": {
      "text/markdown": [
       "<span style=\"color:#33cc99\">Solution:</span> \n",
       "```python\n",
       "def get_expected_cost(beds, baths, has_basement):\n",
       "    value = 80000 + 30000 * beds + 10000 * baths + 40000 * has_basement\n",
       "    return value\n",
       "\n",
       "```"
      ],
      "text/plain": [
       "Solution: \n",
       "```python\n",
       "def get_expected_cost(beds, baths, has_basement):\n",
       "    value = 80000 + 30000 * beds + 10000 * baths + 40000 * has_basement\n",
       "    return value\n",
       "\n",
       "```"
      ]
     },
     "metadata": {},
     "output_type": "display_data"
    }
   ],
   "source": [
    "# Uncomment to see a hint\n",
    "q3.hint()\n",
    "\n",
    "# Uncomment to view the solution\n",
    "q3.solution()"
   ]
  },
  {
   "cell_type": "markdown",
   "id": "1afeb338",
   "metadata": {
    "papermill": {
     "duration": 0.006455,
     "end_time": "2024-11-26T16:03:22.815366",
     "exception": false,
     "start_time": "2024-11-26T16:03:22.808911",
     "status": "completed"
    },
    "tags": []
   },
   "source": [
    "# Question 4\n",
    "\n",
    "We'll continue our study of boolean arithmetic.  For this question, your task is to provide a description of what happpens when you add booleans. \n",
    "\n",
    "Use the next code cell for your investigation.  Feel free to add or remove any lines of code - use it as your workspace!"
   ]
  },
  {
   "cell_type": "code",
   "execution_count": 10,
   "id": "ba1c20e1",
   "metadata": {
    "execution": {
     "iopub.execute_input": "2024-11-26T16:03:22.831207Z",
     "iopub.status.busy": "2024-11-26T16:03:22.830803Z",
     "iopub.status.idle": "2024-11-26T16:03:22.837200Z",
     "shell.execute_reply": "2024-11-26T16:03:22.835795Z"
    },
    "papermill": {
     "duration": 0.017424,
     "end_time": "2024-11-26T16:03:22.839731",
     "exception": false,
     "start_time": "2024-11-26T16:03:22.822307",
     "status": "completed"
    },
    "tags": []
   },
   "outputs": [
    {
     "name": "stdout",
     "output_type": "stream",
     "text": [
      "0\n",
      "1\n",
      "1\n",
      "2\n",
      "3\n"
     ]
    }
   ],
   "source": [
    "print(False + False)\n",
    "print(True + False)\n",
    "print(False + True)\n",
    "print(True + True)\n",
    "print(False + True + True + True)"
   ]
  },
  {
   "cell_type": "markdown",
   "id": "000447e4",
   "metadata": {
    "papermill": {
     "duration": 0.007463,
     "end_time": "2024-11-26T16:03:22.854286",
     "exception": false,
     "start_time": "2024-11-26T16:03:22.846823",
     "status": "completed"
    },
    "tags": []
   },
   "source": [
    "Once you have an answer, run the code cell below to see the solution.  Viewing the solution will give you credit for answering the problem."
   ]
  },
  {
   "cell_type": "code",
   "execution_count": 11,
   "id": "d589c722",
   "metadata": {
    "execution": {
     "iopub.execute_input": "2024-11-26T16:03:22.869735Z",
     "iopub.status.busy": "2024-11-26T16:03:22.869327Z",
     "iopub.status.idle": "2024-11-26T16:03:22.878197Z",
     "shell.execute_reply": "2024-11-26T16:03:22.877114Z"
    },
    "papermill": {
     "duration": 0.019316,
     "end_time": "2024-11-26T16:03:22.880547",
     "exception": false,
     "start_time": "2024-11-26T16:03:22.861231",
     "status": "completed"
    },
    "tags": []
   },
   "outputs": [
    {
     "data": {
      "application/javascript": [
       "parent.postMessage({\"jupyterEvent\": \"custom.exercise_interaction\", \"data\": {\"outcomeType\": 1, \"valueTowardsCompletion\": 0.2, \"interactionType\": 1, \"questionType\": 4, \"questionId\": \"4_AddingBooleans\", \"learnToolsVersion\": \"0.3.4\", \"failureMessage\": \"\", \"exceptionClass\": \"\", \"trace\": \"\"}}, \"*\")"
      ],
      "text/plain": [
       "<IPython.core.display.Javascript object>"
      ]
     },
     "metadata": {},
     "output_type": "display_data"
    },
    {
     "data": {
      "text/markdown": [
       "<span style=\"color:#33cc33\">Correct:</span> \n",
       "\n",
       "When you add booleans, adding `False` is equivalent to adding 0, and adding `True` is equivalent to adding 1."
      ],
      "text/plain": [
       "Correct: \n",
       "\n",
       "When you add booleans, adding `False` is equivalent to adding 0, and adding `True` is equivalent to adding 1."
      ]
     },
     "metadata": {},
     "output_type": "display_data"
    }
   ],
   "source": [
    "# Check your answer (Run this code cell to receive credit!)\n",
    "q4.check()"
   ]
  },
  {
   "cell_type": "markdown",
   "id": "6f78856e",
   "metadata": {
    "papermill": {
     "duration": 0.007505,
     "end_time": "2024-11-26T16:03:22.896156",
     "exception": false,
     "start_time": "2024-11-26T16:03:22.888651",
     "status": "completed"
    },
    "tags": []
   },
   "source": [
    "# 🌶️ Question 5\n",
    "\n",
    "You own an online shop where you sell rings with custom engravings.  You offer both gold plated and solid gold rings.\n",
    "- Gold plated rings have a base cost of \\\\$50, and you charge \\\\$7 per engraved unit.  \n",
    "- Solid gold rings have a base cost of \\\\$100, and you charge \\\\$10 per engraved unit.\n",
    "- Spaces and punctuation are counted as engraved units.\n",
    "\n",
    "Write a function `cost_of_project()` that takes two arguments:\n",
    "- `engraving` - a Python string with the text of the engraving\n",
    "- `solid_gold` - a Boolean that indicates whether the ring is solid gold\n",
    "\n",
    "It should return the cost of the project.  This question should be fairly challenging, and you may need a hint."
   ]
  },
  {
   "cell_type": "code",
   "execution_count": 12,
   "id": "97c58a52",
   "metadata": {
    "execution": {
     "iopub.execute_input": "2024-11-26T16:03:22.912663Z",
     "iopub.status.busy": "2024-11-26T16:03:22.912218Z",
     "iopub.status.idle": "2024-11-26T16:03:22.922465Z",
     "shell.execute_reply": "2024-11-26T16:03:22.921392Z"
    },
    "papermill": {
     "duration": 0.021019,
     "end_time": "2024-11-26T16:03:22.924493",
     "exception": false,
     "start_time": "2024-11-26T16:03:22.903474",
     "status": "completed"
    },
    "tags": []
   },
   "outputs": [
    {
     "data": {
      "application/javascript": [
       "parent.postMessage({\"jupyterEvent\": \"custom.exercise_interaction\", \"data\": {\"outcomeType\": 1, \"valueTowardsCompletion\": 0.2, \"interactionType\": 1, \"questionType\": 2, \"questionId\": \"5_CustomEngravings\", \"learnToolsVersion\": \"0.3.4\", \"failureMessage\": \"\", \"exceptionClass\": \"\", \"trace\": \"\"}}, \"*\")"
      ],
      "text/plain": [
       "<IPython.core.display.Javascript object>"
      ]
     },
     "metadata": {},
     "output_type": "display_data"
    },
    {
     "data": {
      "text/markdown": [
       "<span style=\"color:#33cc33\">Correct</span>"
      ],
      "text/plain": [
       "Correct"
      ]
     },
     "metadata": {},
     "output_type": "display_data"
    },
    {
     "name": "stdout",
     "output_type": "stream",
     "text": [
      "<function cost_of_project at 0x7800e88c0430>\n"
     ]
    }
   ],
   "source": [
    "def cost_of_project(engraving, solid_gold):\n",
    "    cost = solid_gold * (100 + 10 * len(engraving)) + (not solid_gold) * (50 + 7 * len(engraving))\n",
    "    return cost\n",
    "\n",
    "# Check your answer\n",
    "q5.check()\n",
    "\n",
    "print(cost_of_project)"
   ]
  },
  {
   "cell_type": "code",
   "execution_count": 13,
   "id": "3cf26c37",
   "metadata": {
    "execution": {
     "iopub.execute_input": "2024-11-26T16:03:22.940901Z",
     "iopub.status.busy": "2024-11-26T16:03:22.940510Z",
     "iopub.status.idle": "2024-11-26T16:03:22.955238Z",
     "shell.execute_reply": "2024-11-26T16:03:22.954134Z"
    },
    "papermill": {
     "duration": 0.025589,
     "end_time": "2024-11-26T16:03:22.957470",
     "exception": false,
     "start_time": "2024-11-26T16:03:22.931881",
     "status": "completed"
    },
    "tags": []
   },
   "outputs": [
    {
     "data": {
      "application/javascript": [
       "parent.postMessage({\"jupyterEvent\": \"custom.exercise_interaction\", \"data\": {\"interactionType\": 2, \"questionType\": 2, \"questionId\": \"5_CustomEngravings\", \"learnToolsVersion\": \"0.3.4\", \"valueTowardsCompletion\": 0.0, \"failureMessage\": \"\", \"exceptionClass\": \"\", \"trace\": \"\", \"outcomeType\": 4}}, \"*\")"
      ],
      "text/plain": [
       "<IPython.core.display.Javascript object>"
      ]
     },
     "metadata": {},
     "output_type": "display_data"
    },
    {
     "data": {
      "text/markdown": [
       "<span style=\"color:#3366cc\">Hint:</span> There are two options - either the project uses solid gold or does not.  With this in mind, you can structure your solution like this: `cost = solid_gold * ____ + (not solid_gold) * ____`.  You need to figure out how to fill in the blanks. Also, remember that:\n",
       "- If `solid_gold = True`, then `(not solid_gold) = False`, and if `solid_gold = False`, then `(not solid_gold) = True`.\n",
       "- Multiplying an integer by `True` is equivalent to multiplying it by 1, and multiplying an integer by `False` is equivalent to multiplying it by 0."
      ],
      "text/plain": [
       "Hint: There are two options - either the project uses solid gold or does not.  With this in mind, you can structure your solution like this: `cost = solid_gold * ____ + (not solid_gold) * ____`.  You need to figure out how to fill in the blanks. Also, remember that:\n",
       "- If `solid_gold = True`, then `(not solid_gold) = False`, and if `solid_gold = False`, then `(not solid_gold) = True`.\n",
       "- Multiplying an integer by `True` is equivalent to multiplying it by 1, and multiplying an integer by `False` is equivalent to multiplying it by 0."
      ]
     },
     "metadata": {},
     "output_type": "display_data"
    },
    {
     "data": {
      "application/javascript": [
       "parent.postMessage({\"jupyterEvent\": \"custom.exercise_interaction\", \"data\": {\"interactionType\": 3, \"questionType\": 2, \"questionId\": \"5_CustomEngravings\", \"learnToolsVersion\": \"0.3.4\", \"valueTowardsCompletion\": 0.0, \"failureMessage\": \"\", \"exceptionClass\": \"\", \"trace\": \"\", \"outcomeType\": 4}}, \"*\")"
      ],
      "text/plain": [
       "<IPython.core.display.Javascript object>"
      ]
     },
     "metadata": {},
     "output_type": "display_data"
    },
    {
     "data": {
      "text/markdown": [
       "<span style=\"color:#33cc99\">Solution:</span> \n",
       "```python\n",
       "def cost_of_project(engraving, solid_gold):\n",
       "    cost = solid_gold * (100 + 10 * len(engraving)) + (not solid_gold) * (50 + 7 * len(engraving))\n",
       "    return cost\n",
       "\n",
       "```"
      ],
      "text/plain": [
       "Solution: \n",
       "```python\n",
       "def cost_of_project(engraving, solid_gold):\n",
       "    cost = solid_gold * (100 + 10 * len(engraving)) + (not solid_gold) * (50 + 7 * len(engraving))\n",
       "    return cost\n",
       "\n",
       "```"
      ]
     },
     "metadata": {},
     "output_type": "display_data"
    }
   ],
   "source": [
    "# Uncomment to see a hint\n",
    "q5.hint()\n",
    "\n",
    "# Uncomment to view the solution\n",
    "q5.solution()"
   ]
  },
  {
   "cell_type": "markdown",
   "id": "bb8f072b",
   "metadata": {
    "papermill": {
     "duration": 0.007494,
     "end_time": "2024-11-26T16:03:22.973370",
     "exception": false,
     "start_time": "2024-11-26T16:03:22.965876",
     "status": "completed"
    },
    "tags": []
   },
   "source": [
    "Run the next code cell to calculate the cost of engraving `Charlie+Denver` on a solid gold ring."
   ]
  },
  {
   "cell_type": "code",
   "execution_count": 14,
   "id": "bf192c36",
   "metadata": {
    "execution": {
     "iopub.execute_input": "2024-11-26T16:03:22.990584Z",
     "iopub.status.busy": "2024-11-26T16:03:22.990196Z",
     "iopub.status.idle": "2024-11-26T16:03:22.995929Z",
     "shell.execute_reply": "2024-11-26T16:03:22.994737Z"
    },
    "papermill": {
     "duration": 0.017018,
     "end_time": "2024-11-26T16:03:22.998201",
     "exception": false,
     "start_time": "2024-11-26T16:03:22.981183",
     "status": "completed"
    },
    "tags": []
   },
   "outputs": [
    {
     "name": "stdout",
     "output_type": "stream",
     "text": [
      "240\n"
     ]
    }
   ],
   "source": [
    "project_one = cost_of_project(\"Charlie+Denver\", True)\n",
    "print(project_one)"
   ]
  },
  {
   "cell_type": "markdown",
   "id": "68914ead",
   "metadata": {
    "papermill": {
     "duration": 0.007497,
     "end_time": "2024-11-26T16:03:23.013700",
     "exception": false,
     "start_time": "2024-11-26T16:03:23.006203",
     "status": "completed"
    },
    "tags": []
   },
   "source": [
    "Use the next code cell to calculate the cost of engraving `08/10/2000` on a gold plated ring."
   ]
  },
  {
   "cell_type": "code",
   "execution_count": 15,
   "id": "d8089ced",
   "metadata": {
    "execution": {
     "iopub.execute_input": "2024-11-26T16:03:23.031075Z",
     "iopub.status.busy": "2024-11-26T16:03:23.030669Z",
     "iopub.status.idle": "2024-11-26T16:03:23.036025Z",
     "shell.execute_reply": "2024-11-26T16:03:23.034941Z"
    },
    "papermill": {
     "duration": 0.016543,
     "end_time": "2024-11-26T16:03:23.038162",
     "exception": false,
     "start_time": "2024-11-26T16:03:23.021619",
     "status": "completed"
    },
    "tags": []
   },
   "outputs": [
    {
     "name": "stdout",
     "output_type": "stream",
     "text": [
      "120\n"
     ]
    }
   ],
   "source": [
    "project_two = cost_of_project(\"08/10/2000\", False)\n",
    "print(project_two)"
   ]
  },
  {
   "cell_type": "markdown",
   "id": "ba625f6e",
   "metadata": {
    "papermill": {
     "duration": 0.007707,
     "end_time": "2024-11-26T16:03:23.053770",
     "exception": false,
     "start_time": "2024-11-26T16:03:23.046063",
     "status": "completed"
    },
    "tags": []
   },
   "source": [
    "# Keep going\n",
    "\n",
    "Continue to the next lesson to **[learn about conditions and conditional statements](https://www.kaggle.com/alexisbcook/conditions-and-conditional-statements)**."
   ]
  },
  {
   "cell_type": "markdown",
   "id": "b9cf1bf0",
   "metadata": {
    "papermill": {
     "duration": 0.007602,
     "end_time": "2024-11-26T16:03:23.069226",
     "exception": false,
     "start_time": "2024-11-26T16:03:23.061624",
     "status": "completed"
    },
    "tags": []
   },
   "source": [
    "---\n",
    "\n",
    "\n",
    "\n",
    "\n",
    "*Have questions or comments? Visit the [course discussion forum](https://www.kaggle.com/learn/intro-to-programming/discussion) to chat with other learners.*"
   ]
  }
 ],
 "metadata": {
  "kaggle": {
   "accelerator": "none",
   "dataSources": [],
   "isGpuEnabled": false,
   "isInternetEnabled": false,
   "language": "python",
   "sourceType": "notebook"
  },
  "kernelspec": {
   "display_name": "Python 3",
   "language": "python",
   "name": "python3"
  },
  "language_info": {
   "codemirror_mode": {
    "name": "ipython",
    "version": 3
   },
   "file_extension": ".py",
   "mimetype": "text/x-python",
   "name": "python",
   "nbconvert_exporter": "python",
   "pygments_lexer": "ipython3",
   "version": "3.10.14"
  },
  "papermill": {
   "default_parameters": {},
   "duration": 4.833566,
   "end_time": "2024-11-26T16:03:23.599452",
   "environment_variables": {},
   "exception": null,
   "input_path": "__notebook__.ipynb",
   "output_path": "__notebook__.ipynb",
   "parameters": {},
   "start_time": "2024-11-26T16:03:18.765886",
   "version": "2.3.3"
  }
 },
 "nbformat": 4,
 "nbformat_minor": 5
}
