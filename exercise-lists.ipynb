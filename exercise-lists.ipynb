{
 "cells": [
  {
   "cell_type": "markdown",
   "id": "c0dfbb1e",
   "metadata": {
    "papermill": {
     "duration": 0.004949,
     "end_time": "2024-11-19T18:20:21.304809",
     "exception": false,
     "start_time": "2024-11-19T18:20:21.299860",
     "status": "completed"
    },
    "tags": []
   },
   "source": [
    "**This notebook is an exercise in the [Python](https://www.kaggle.com/learn/python) course.  You can reference the tutorial at [this link](https://www.kaggle.com/colinmorris/lists).**\n",
    "\n",
    "---\n"
   ]
  },
  {
   "cell_type": "markdown",
   "id": "e8a26f5f",
   "metadata": {
    "papermill": {
     "duration": 0.003999,
     "end_time": "2024-11-19T18:20:21.313171",
     "exception": false,
     "start_time": "2024-11-19T18:20:21.309172",
     "status": "completed"
    },
    "tags": []
   },
   "source": [
    "Things get more interesting with lists. You'll apply your new knowledge to solve the questions below. Remember to run the following cell first."
   ]
  },
  {
   "cell_type": "code",
   "execution_count": 1,
   "id": "4b985058",
   "metadata": {
    "execution": {
     "iopub.execute_input": "2024-11-19T18:20:21.323515Z",
     "iopub.status.busy": "2024-11-19T18:20:21.322984Z",
     "iopub.status.idle": "2024-11-19T18:20:22.307512Z",
     "shell.execute_reply": "2024-11-19T18:20:22.306298Z"
    },
    "papermill": {
     "duration": 0.992604,
     "end_time": "2024-11-19T18:20:22.309886",
     "exception": false,
     "start_time": "2024-11-19T18:20:21.317282",
     "status": "completed"
    },
    "tags": []
   },
   "outputs": [
    {
     "name": "stdout",
     "output_type": "stream",
     "text": [
      "Setup complete.\n"
     ]
    }
   ],
   "source": [
    "from learntools.core import binder; binder.bind(globals())\n",
    "from learntools.python.ex4 import *\n",
    "print('Setup complete.')"
   ]
  },
  {
   "cell_type": "code",
   "execution_count": 2,
   "id": "eb7a8ddc",
   "metadata": {
    "execution": {
     "iopub.execute_input": "2024-11-19T18:20:22.320743Z",
     "iopub.status.busy": "2024-11-19T18:20:22.320188Z",
     "iopub.status.idle": "2024-11-19T18:20:22.326412Z",
     "shell.execute_reply": "2024-11-19T18:20:22.325257Z"
    },
    "papermill": {
     "duration": 0.014349,
     "end_time": "2024-11-19T18:20:22.328886",
     "exception": false,
     "start_time": "2024-11-19T18:20:22.314537",
     "status": "completed"
    },
    "tags": []
   },
   "outputs": [
    {
     "name": "stdout",
     "output_type": "stream",
     "text": [
      "Setup complete.\n"
     ]
    }
   ],
   "source": [
    "from learntools.core import binder; binder.bind(globals())\n",
    "from learntools.python.ex4 import *\n",
    "print('Setup complete.')"
   ]
  },
  {
   "cell_type": "markdown",
   "id": "3a10e932",
   "metadata": {
    "papermill": {
     "duration": 0.004146,
     "end_time": "2024-11-19T18:20:22.337442",
     "exception": false,
     "start_time": "2024-11-19T18:20:22.333296",
     "status": "completed"
    },
    "tags": []
   },
   "source": [
    "# 1.\n",
    "\n",
    "Complete the function below according to its docstring."
   ]
  },
  {
   "cell_type": "code",
   "execution_count": 3,
   "id": "30c8002d",
   "metadata": {
    "execution": {
     "iopub.execute_input": "2024-11-19T18:20:22.348247Z",
     "iopub.status.busy": "2024-11-19T18:20:22.347268Z",
     "iopub.status.idle": "2024-11-19T18:20:22.359638Z",
     "shell.execute_reply": "2024-11-19T18:20:22.358609Z"
    },
    "papermill": {
     "duration": 0.019645,
     "end_time": "2024-11-19T18:20:22.361489",
     "exception": false,
     "start_time": "2024-11-19T18:20:22.341844",
     "status": "completed"
    },
    "tags": []
   },
   "outputs": [
    {
     "data": {
      "application/javascript": [
       "parent.postMessage({\"jupyterEvent\": \"custom.exercise_interaction\", \"data\": {\"outcomeType\": 1, \"valueTowardsCompletion\": 0.2, \"interactionType\": 1, \"questionType\": 2, \"questionId\": \"1_SelectSecondItem\", \"learnToolsVersion\": \"0.3.4\", \"failureMessage\": \"\", \"exceptionClass\": \"\", \"trace\": \"\"}}, \"*\")"
      ],
      "text/plain": [
       "<IPython.core.display.Javascript object>"
      ]
     },
     "metadata": {},
     "output_type": "display_data"
    },
    {
     "data": {
      "text/markdown": [
       "<span style=\"color:#33cc33\">Correct</span>"
      ],
      "text/plain": [
       "Correct"
      ]
     },
     "metadata": {},
     "output_type": "display_data"
    },
    {
     "data": {
      "text/plain": [
       "<function __main__.select_second(L)>"
      ]
     },
     "execution_count": 3,
     "metadata": {},
     "output_type": "execute_result"
    }
   ],
   "source": [
    "def select_second(L):\n",
    "    \"\"\"Return the second element of the given list. If the list has no second\n",
    "    element, return None.\n",
    "    \"\"\"\n",
    "    if len(L) < 2:\n",
    "        return None\n",
    "    return L[1]\n",
    "    pass\n",
    "\n",
    "# Check your answer\n",
    "q1.check()\n",
    "\n",
    "select_second"
   ]
  },
  {
   "cell_type": "code",
   "execution_count": 4,
   "id": "a0655eac",
   "metadata": {
    "execution": {
     "iopub.execute_input": "2024-11-19T18:20:22.373322Z",
     "iopub.status.busy": "2024-11-19T18:20:22.372947Z",
     "iopub.status.idle": "2024-11-19T18:20:22.384619Z",
     "shell.execute_reply": "2024-11-19T18:20:22.383591Z"
    },
    "papermill": {
     "duration": 0.020571,
     "end_time": "2024-11-19T18:20:22.386709",
     "exception": false,
     "start_time": "2024-11-19T18:20:22.366138",
     "status": "completed"
    },
    "tags": []
   },
   "outputs": [
    {
     "data": {
      "application/javascript": [
       "parent.postMessage({\"jupyterEvent\": \"custom.exercise_interaction\", \"data\": {\"interactionType\": 2, \"questionType\": 2, \"questionId\": \"1_SelectSecondItem\", \"learnToolsVersion\": \"0.3.4\", \"valueTowardsCompletion\": 0.0, \"failureMessage\": \"\", \"exceptionClass\": \"\", \"trace\": \"\", \"outcomeType\": 4}}, \"*\")"
      ],
      "text/plain": [
       "<IPython.core.display.Javascript object>"
      ]
     },
     "metadata": {},
     "output_type": "display_data"
    },
    {
     "data": {
      "text/markdown": [
       "<span style=\"color:#3366cc\">Hint:</span> Python starts counting at 0. So the second item isn't indexed with a 2"
      ],
      "text/plain": [
       "Hint: Python starts counting at 0. So the second item isn't indexed with a 2"
      ]
     },
     "metadata": {},
     "output_type": "display_data"
    },
    {
     "data": {
      "application/javascript": [
       "parent.postMessage({\"jupyterEvent\": \"custom.exercise_interaction\", \"data\": {\"interactionType\": 3, \"questionType\": 2, \"questionId\": \"1_SelectSecondItem\", \"learnToolsVersion\": \"0.3.4\", \"valueTowardsCompletion\": 0.0, \"failureMessage\": \"\", \"exceptionClass\": \"\", \"trace\": \"\", \"outcomeType\": 4}}, \"*\")"
      ],
      "text/plain": [
       "<IPython.core.display.Javascript object>"
      ]
     },
     "metadata": {},
     "output_type": "display_data"
    },
    {
     "data": {
      "text/markdown": [
       "<span style=\"color:#33cc99\">Solution:</span> \n",
       "```python\n",
       "def select_second(L):\n",
       "    if len(L) < 2:\n",
       "        return None\n",
       "    return L[1]\n",
       "```"
      ],
      "text/plain": [
       "Solution: \n",
       "```python\n",
       "def select_second(L):\n",
       "    if len(L) < 2:\n",
       "        return None\n",
       "    return L[1]\n",
       "```"
      ]
     },
     "metadata": {},
     "output_type": "display_data"
    }
   ],
   "source": [
    "q1.hint()\n",
    "q1.solution()"
   ]
  },
  {
   "cell_type": "markdown",
   "id": "0a9141be",
   "metadata": {
    "papermill": {
     "duration": 0.004716,
     "end_time": "2024-11-19T18:20:22.396601",
     "exception": false,
     "start_time": "2024-11-19T18:20:22.391885",
     "status": "completed"
    },
    "tags": []
   },
   "source": [
    "# 2.\n",
    "\n",
    "You are analyzing sports teams.  Members of each team are stored in a list. The Coach is the first name in the list, the captain is the second name in the list, and other players are listed after that. \n",
    "These lists are stored in another list, which starts with the best team and proceeds through the list to the worst team last.  Complete the function below to select the **captain** of the worst team."
   ]
  },
  {
   "cell_type": "code",
   "execution_count": 5,
   "id": "6a14e160",
   "metadata": {
    "execution": {
     "iopub.execute_input": "2024-11-19T18:20:22.408223Z",
     "iopub.status.busy": "2024-11-19T18:20:22.407830Z",
     "iopub.status.idle": "2024-11-19T18:20:22.418632Z",
     "shell.execute_reply": "2024-11-19T18:20:22.417610Z"
    },
    "papermill": {
     "duration": 0.019259,
     "end_time": "2024-11-19T18:20:22.420834",
     "exception": false,
     "start_time": "2024-11-19T18:20:22.401575",
     "status": "completed"
    },
    "tags": []
   },
   "outputs": [
    {
     "data": {
      "application/javascript": [
       "parent.postMessage({\"jupyterEvent\": \"custom.exercise_interaction\", \"data\": {\"outcomeType\": 1, \"valueTowardsCompletion\": 0.2, \"interactionType\": 1, \"questionType\": 2, \"questionId\": \"2_LosingTeamCaptain\", \"learnToolsVersion\": \"0.3.4\", \"failureMessage\": \"\", \"exceptionClass\": \"\", \"trace\": \"\"}}, \"*\")"
      ],
      "text/plain": [
       "<IPython.core.display.Javascript object>"
      ]
     },
     "metadata": {},
     "output_type": "display_data"
    },
    {
     "data": {
      "text/markdown": [
       "<span style=\"color:#33cc33\">Correct</span>"
      ],
      "text/plain": [
       "Correct"
      ]
     },
     "metadata": {},
     "output_type": "display_data"
    },
    {
     "data": {
      "text/plain": [
       "<function __main__.losing_team_captain(teams)>"
      ]
     },
     "execution_count": 5,
     "metadata": {},
     "output_type": "execute_result"
    }
   ],
   "source": [
    "def losing_team_captain(teams):\n",
    "    \"\"\"Given a list of teams, where each team is a list of names, return the 2nd player (captain)\n",
    "    from the last listed team\n",
    "    \"\"\"\n",
    "    return teams[-1][1]\n",
    "    pass\n",
    "\n",
    "# Check your answer\n",
    "q2.check()\n",
    "\n",
    "losing_team_captain"
   ]
  },
  {
   "cell_type": "code",
   "execution_count": 6,
   "id": "b0306201",
   "metadata": {
    "execution": {
     "iopub.execute_input": "2024-11-19T18:20:22.433199Z",
     "iopub.status.busy": "2024-11-19T18:20:22.432805Z",
     "iopub.status.idle": "2024-11-19T18:20:22.444038Z",
     "shell.execute_reply": "2024-11-19T18:20:22.443061Z"
    },
    "papermill": {
     "duration": 0.020225,
     "end_time": "2024-11-19T18:20:22.446433",
     "exception": false,
     "start_time": "2024-11-19T18:20:22.426208",
     "status": "completed"
    },
    "tags": []
   },
   "outputs": [
    {
     "data": {
      "application/javascript": [
       "parent.postMessage({\"jupyterEvent\": \"custom.exercise_interaction\", \"data\": {\"interactionType\": 2, \"questionType\": 2, \"questionId\": \"2_LosingTeamCaptain\", \"learnToolsVersion\": \"0.3.4\", \"valueTowardsCompletion\": 0.0, \"failureMessage\": \"\", \"exceptionClass\": \"\", \"trace\": \"\", \"outcomeType\": 4}}, \"*\")"
      ],
      "text/plain": [
       "<IPython.core.display.Javascript object>"
      ]
     },
     "metadata": {},
     "output_type": "display_data"
    },
    {
     "data": {
      "text/markdown": [
       "<span style=\"color:#3366cc\">Hint:</span> The last item in a list `L` can be selected with `L[-1]`. The first item in the first sublist would be selected as `L[0][0]`"
      ],
      "text/plain": [
       "Hint: The last item in a list `L` can be selected with `L[-1]`. The first item in the first sublist would be selected as `L[0][0]`"
      ]
     },
     "metadata": {},
     "output_type": "display_data"
    },
    {
     "data": {
      "application/javascript": [
       "parent.postMessage({\"jupyterEvent\": \"custom.exercise_interaction\", \"data\": {\"interactionType\": 3, \"questionType\": 2, \"questionId\": \"2_LosingTeamCaptain\", \"learnToolsVersion\": \"0.3.4\", \"valueTowardsCompletion\": 0.0, \"failureMessage\": \"\", \"exceptionClass\": \"\", \"trace\": \"\", \"outcomeType\": 4}}, \"*\")"
      ],
      "text/plain": [
       "<IPython.core.display.Javascript object>"
      ]
     },
     "metadata": {},
     "output_type": "display_data"
    },
    {
     "data": {
      "text/markdown": [
       "<span style=\"color:#33cc99\">Solution:</span> \n",
       "```python\n",
       "def losing_team_captain(teams):\n",
       "    return teams[-1][1]\n",
       "```"
      ],
      "text/plain": [
       "Solution: \n",
       "```python\n",
       "def losing_team_captain(teams):\n",
       "    return teams[-1][1]\n",
       "```"
      ]
     },
     "metadata": {},
     "output_type": "display_data"
    }
   ],
   "source": [
    "q2.hint()\n",
    "q2.solution()"
   ]
  },
  {
   "cell_type": "markdown",
   "id": "13573b75",
   "metadata": {
    "papermill": {
     "duration": 0.005589,
     "end_time": "2024-11-19T18:20:22.458188",
     "exception": false,
     "start_time": "2024-11-19T18:20:22.452599",
     "status": "completed"
    },
    "tags": []
   },
   "source": [
    "# 3.\n",
    "\n",
    "The next iteration of Mario Kart will feature an extra-infuriating new item, the *Purple Shell*. When used, it warps the last place racer into first place and the first place racer into last place. Complete the function below to implement the Purple Shell's effect."
   ]
  },
  {
   "cell_type": "code",
   "execution_count": 7,
   "id": "1fa948ce",
   "metadata": {
    "execution": {
     "iopub.execute_input": "2024-11-19T18:20:22.472657Z",
     "iopub.status.busy": "2024-11-19T18:20:22.472129Z",
     "iopub.status.idle": "2024-11-19T18:20:22.481722Z",
     "shell.execute_reply": "2024-11-19T18:20:22.480657Z"
    },
    "papermill": {
     "duration": 0.01894,
     "end_time": "2024-11-19T18:20:22.483673",
     "exception": false,
     "start_time": "2024-11-19T18:20:22.464733",
     "status": "completed"
    },
    "tags": []
   },
   "outputs": [
    {
     "data": {
      "application/javascript": [
       "parent.postMessage({\"jupyterEvent\": \"custom.exercise_interaction\", \"data\": {\"outcomeType\": 1, \"valueTowardsCompletion\": 0.2, \"interactionType\": 1, \"questionType\": 2, \"questionId\": \"3_PurpleShell\", \"learnToolsVersion\": \"0.3.4\", \"failureMessage\": \"\", \"exceptionClass\": \"\", \"trace\": \"\"}}, \"*\")"
      ],
      "text/plain": [
       "<IPython.core.display.Javascript object>"
      ]
     },
     "metadata": {},
     "output_type": "display_data"
    },
    {
     "data": {
      "text/markdown": [
       "<span style=\"color:#33cc33\">Correct</span>"
      ],
      "text/plain": [
       "Correct"
      ]
     },
     "metadata": {},
     "output_type": "display_data"
    }
   ],
   "source": [
    "def purple_shell(racers):\n",
    "    \"\"\"Given a list of racers, set the first place racer (at the front of the list) to last\n",
    "    place and vice versa.\n",
    "    \n",
    "    >>> r = [\"Mario\", \"Bowser\", \"Luigi\"]\n",
    "    >>> purple_shell(r)\n",
    "    >>> r\n",
    "    [\"Luigi\", \"Bowser\", \"Mario\"]\n",
    "    \"\"\"\n",
    "    temp = racers[0]\n",
    "    racers[0] = racers[-1]\n",
    "    racers[-1] = temp\n",
    "    \n",
    "    pass\n",
    "\n",
    "# Check your answer\n",
    "q3.check()"
   ]
  },
  {
   "cell_type": "code",
   "execution_count": 8,
   "id": "62197510",
   "metadata": {
    "execution": {
     "iopub.execute_input": "2024-11-19T18:20:22.497452Z",
     "iopub.status.busy": "2024-11-19T18:20:22.497059Z",
     "iopub.status.idle": "2024-11-19T18:20:22.508581Z",
     "shell.execute_reply": "2024-11-19T18:20:22.507595Z"
    },
    "papermill": {
     "duration": 0.020921,
     "end_time": "2024-11-19T18:20:22.510734",
     "exception": false,
     "start_time": "2024-11-19T18:20:22.489813",
     "status": "completed"
    },
    "tags": []
   },
   "outputs": [
    {
     "data": {
      "application/javascript": [
       "parent.postMessage({\"jupyterEvent\": \"custom.exercise_interaction\", \"data\": {\"interactionType\": 2, \"questionType\": 2, \"questionId\": \"3_PurpleShell\", \"learnToolsVersion\": \"0.3.4\", \"valueTowardsCompletion\": 0.0, \"failureMessage\": \"\", \"exceptionClass\": \"\", \"trace\": \"\", \"outcomeType\": 4}}, \"*\")"
      ],
      "text/plain": [
       "<IPython.core.display.Javascript object>"
      ]
     },
     "metadata": {},
     "output_type": "display_data"
    },
    {
     "data": {
      "text/markdown": [
       "<span style=\"color:#3366cc\">Hint:</span> Your function should change the list it receives, but not return anything\n",
       "\n",
       "To swap the list elements, think back to the code you used in the very first exercise to swap two variables."
      ],
      "text/plain": [
       "Hint: Your function should change the list it receives, but not return anything\n",
       "\n",
       "To swap the list elements, think back to the code you used in the very first exercise to swap two variables."
      ]
     },
     "metadata": {},
     "output_type": "display_data"
    },
    {
     "data": {
      "application/javascript": [
       "parent.postMessage({\"jupyterEvent\": \"custom.exercise_interaction\", \"data\": {\"interactionType\": 3, \"questionType\": 2, \"questionId\": \"3_PurpleShell\", \"learnToolsVersion\": \"0.3.4\", \"valueTowardsCompletion\": 0.0, \"failureMessage\": \"\", \"exceptionClass\": \"\", \"trace\": \"\", \"outcomeType\": 4}}, \"*\")"
      ],
      "text/plain": [
       "<IPython.core.display.Javascript object>"
      ]
     },
     "metadata": {},
     "output_type": "display_data"
    },
    {
     "data": {
      "text/markdown": [
       "<span style=\"color:#33cc99\">Solution:</span> \n",
       "```python\n",
       "def purple_shell(racers):\n",
       "    # One slick way to do the swap is x[0], x[-1] = x[-1], x[0].\n",
       "    temp = racers[0]\n",
       "    racers[0] = racers[-1]\n",
       "    racers[-1] = temp\n",
       "```"
      ],
      "text/plain": [
       "Solution: \n",
       "```python\n",
       "def purple_shell(racers):\n",
       "    # One slick way to do the swap is x[0], x[-1] = x[-1], x[0].\n",
       "    temp = racers[0]\n",
       "    racers[0] = racers[-1]\n",
       "    racers[-1] = temp\n",
       "```"
      ]
     },
     "metadata": {},
     "output_type": "display_data"
    }
   ],
   "source": [
    "q3.hint()\n",
    "q3.solution()"
   ]
  },
  {
   "cell_type": "markdown",
   "id": "9cf4262f",
   "metadata": {
    "papermill": {
     "duration": 0.006186,
     "end_time": "2024-11-19T18:20:22.523584",
     "exception": false,
     "start_time": "2024-11-19T18:20:22.517398",
     "status": "completed"
    },
    "tags": []
   },
   "source": [
    "# 4.\n",
    "\n",
    "What are the lengths of the following lists? Fill in the variable `lengths` with your predictions. (Try to make a prediction for each list *without* just calling `len()` on it.)"
   ]
  },
  {
   "cell_type": "code",
   "execution_count": 9,
   "id": "498dec05",
   "metadata": {
    "execution": {
     "iopub.execute_input": "2024-11-19T18:20:22.538012Z",
     "iopub.status.busy": "2024-11-19T18:20:22.537627Z",
     "iopub.status.idle": "2024-11-19T18:20:22.546727Z",
     "shell.execute_reply": "2024-11-19T18:20:22.545713Z"
    },
    "papermill": {
     "duration": 0.018811,
     "end_time": "2024-11-19T18:20:22.548824",
     "exception": false,
     "start_time": "2024-11-19T18:20:22.530013",
     "status": "completed"
    },
    "tags": []
   },
   "outputs": [
    {
     "data": {
      "application/javascript": [
       "parent.postMessage({\"jupyterEvent\": \"custom.exercise_interaction\", \"data\": {\"outcomeType\": 1, \"valueTowardsCompletion\": 0.2, \"interactionType\": 1, \"questionType\": 1, \"questionId\": \"4_UnderstandLen\", \"learnToolsVersion\": \"0.3.4\", \"failureMessage\": \"\", \"exceptionClass\": \"\", \"trace\": \"\"}}, \"*\")"
      ],
      "text/plain": [
       "<IPython.core.display.Javascript object>"
      ]
     },
     "metadata": {},
     "output_type": "display_data"
    },
    {
     "data": {
      "text/markdown": [
       "<span style=\"color:#33cc33\">Correct:</span> \n",
       "\n",
       "\n",
       "- a: There are three items in this list. Nothing tricky yet.\n",
       "- b: The list `[2, 3]` counts as a single item. It has one item before it. So we have 2 items in the list\n",
       "- c: The empty list has 0 items\n",
       "- d: The expression is the same as the list `[2, 3]`, which has length 2."
      ],
      "text/plain": [
       "Correct: \n",
       "\n",
       "\n",
       "- a: There are three items in this list. Nothing tricky yet.\n",
       "- b: The list `[2, 3]` counts as a single item. It has one item before it. So we have 2 items in the list\n",
       "- c: The empty list has 0 items\n",
       "- d: The expression is the same as the list `[2, 3]`, which has length 2."
      ]
     },
     "metadata": {},
     "output_type": "display_data"
    }
   ],
   "source": [
    "a = [1, 2, 3]\n",
    "b = [1, [2, 3]]\n",
    "c = []\n",
    "d = [1, 2, 3][1:]\n",
    "\n",
    "# Put your predictions in the list below. Lengths should contain 4 numbers, the\n",
    "# first being the length of a, the second being the length of b and so on.\n",
    "lengths = [3, 2, 0, 2]\n",
    "\n",
    "# Check your answer\n",
    "q4.check()"
   ]
  },
  {
   "cell_type": "code",
   "execution_count": 10,
   "id": "1f16a02d",
   "metadata": {
    "execution": {
     "iopub.execute_input": "2024-11-19T18:20:22.564072Z",
     "iopub.status.busy": "2024-11-19T18:20:22.563676Z",
     "iopub.status.idle": "2024-11-19T18:20:22.571983Z",
     "shell.execute_reply": "2024-11-19T18:20:22.570982Z"
    },
    "papermill": {
     "duration": 0.018531,
     "end_time": "2024-11-19T18:20:22.574229",
     "exception": false,
     "start_time": "2024-11-19T18:20:22.555698",
     "status": "completed"
    },
    "tags": []
   },
   "outputs": [
    {
     "data": {
      "application/javascript": [
       "parent.postMessage({\"jupyterEvent\": \"custom.exercise_interaction\", \"data\": {\"interactionType\": 3, \"questionType\": 1, \"questionId\": \"4_UnderstandLen\", \"learnToolsVersion\": \"0.3.4\", \"valueTowardsCompletion\": 0.0, \"failureMessage\": \"\", \"exceptionClass\": \"\", \"trace\": \"\", \"outcomeType\": 4}}, \"*\")"
      ],
      "text/plain": [
       "<IPython.core.display.Javascript object>"
      ]
     },
     "metadata": {},
     "output_type": "display_data"
    },
    {
     "data": {
      "text/markdown": [
       "<span style=\"color:#33cc99\">Solution:</span> \n",
       "- a: There are three items in this list. Nothing tricky yet.\n",
       "- b: The list `[2, 3]` counts as a single item. It has one item before it. So we have 2 items in the list\n",
       "- c: The empty list has 0 items\n",
       "- d: The expression is the same as the list `[2, 3]`, which has length 2."
      ],
      "text/plain": [
       "Solution: \n",
       "- a: There are three items in this list. Nothing tricky yet.\n",
       "- b: The list `[2, 3]` counts as a single item. It has one item before it. So we have 2 items in the list\n",
       "- c: The empty list has 0 items\n",
       "- d: The expression is the same as the list `[2, 3]`, which has length 2."
      ]
     },
     "metadata": {},
     "output_type": "display_data"
    }
   ],
   "source": [
    "# line below provides some explanation\n",
    "q4.solution()"
   ]
  },
  {
   "cell_type": "markdown",
   "id": "14149494",
   "metadata": {
    "papermill": {
     "duration": 0.006525,
     "end_time": "2024-11-19T18:20:22.587666",
     "exception": false,
     "start_time": "2024-11-19T18:20:22.581141",
     "status": "completed"
    },
    "tags": []
   },
   "source": [
    "# 5. <span title=\"A bit spicy\" style=\"color: darkgreen \">🌶️</span>\n",
    "\n",
    "We're using lists to record people who attended our party and what order they arrived in. For example, the following list represents a party with 7 guests, in which Adela showed up first and Ford was the last to arrive:\n",
    "\n",
    "    party_attendees = ['Adela', 'Fleda', 'Owen', 'May', 'Mona', 'Gilbert', 'Ford']\n",
    "\n",
    "A guest is considered 'fashionably late' if they arrived after at least half of the party's guests. However, they must not be the very last guest (that's taking it too far). In the above example, Mona and Gilbert are the only guests who were fashionably late.\n",
    "\n",
    "Complete the function below which takes a list of party attendees as well as a person, and tells us whether that person is fashionably late."
   ]
  },
  {
   "cell_type": "code",
   "execution_count": 11,
   "id": "52e5bf4d",
   "metadata": {
    "execution": {
     "iopub.execute_input": "2024-11-19T18:20:22.603241Z",
     "iopub.status.busy": "2024-11-19T18:20:22.602315Z",
     "iopub.status.idle": "2024-11-19T18:20:22.613403Z",
     "shell.execute_reply": "2024-11-19T18:20:22.612456Z"
    },
    "papermill": {
     "duration": 0.020999,
     "end_time": "2024-11-19T18:20:22.615408",
     "exception": false,
     "start_time": "2024-11-19T18:20:22.594409",
     "status": "completed"
    },
    "tags": []
   },
   "outputs": [
    {
     "data": {
      "application/javascript": [
       "parent.postMessage({\"jupyterEvent\": \"custom.exercise_interaction\", \"data\": {\"outcomeType\": 1, \"valueTowardsCompletion\": 0.2, \"interactionType\": 1, \"questionType\": 2, \"questionId\": \"5_FashionablyLate\", \"learnToolsVersion\": \"0.3.4\", \"failureMessage\": \"\", \"exceptionClass\": \"\", \"trace\": \"\"}}, \"*\")"
      ],
      "text/plain": [
       "<IPython.core.display.Javascript object>"
      ]
     },
     "metadata": {},
     "output_type": "display_data"
    },
    {
     "data": {
      "text/markdown": [
       "<span style=\"color:#33cc33\">Correct</span>"
      ],
      "text/plain": [
       "Correct"
      ]
     },
     "metadata": {},
     "output_type": "display_data"
    },
    {
     "data": {
      "text/plain": [
       "<function __main__.fashionably_late(arrivals, name)>"
      ]
     },
     "execution_count": 11,
     "metadata": {},
     "output_type": "execute_result"
    }
   ],
   "source": [
    "def fashionably_late(arrivals, name):\n",
    "    \"\"\"Given an ordered list of arrivals to the party and a name, return whether the guest with that\n",
    "    name was fashionably late.\n",
    "    \"\"\"\n",
    "    order = arrivals.index(name)\n",
    "    return order >= len(arrivals) / 2 and order != len(arrivals) - 1\n",
    "    pass\n",
    "\n",
    "# Check your answer\n",
    "q5.check()\n",
    "\n",
    "fashionably_late"
   ]
  },
  {
   "cell_type": "code",
   "execution_count": 12,
   "id": "cdb8207a",
   "metadata": {
    "execution": {
     "iopub.execute_input": "2024-11-19T18:20:22.632064Z",
     "iopub.status.busy": "2024-11-19T18:20:22.631255Z",
     "iopub.status.idle": "2024-11-19T18:20:22.642736Z",
     "shell.execute_reply": "2024-11-19T18:20:22.641727Z"
    },
    "papermill": {
     "duration": 0.022164,
     "end_time": "2024-11-19T18:20:22.644836",
     "exception": false,
     "start_time": "2024-11-19T18:20:22.622672",
     "status": "completed"
    },
    "tags": []
   },
   "outputs": [
    {
     "data": {
      "application/javascript": [
       "parent.postMessage({\"jupyterEvent\": \"custom.exercise_interaction\", \"data\": {\"interactionType\": 2, \"questionType\": 2, \"questionId\": \"5_FashionablyLate\", \"learnToolsVersion\": \"0.3.4\", \"valueTowardsCompletion\": 0.0, \"failureMessage\": \"\", \"exceptionClass\": \"\", \"trace\": \"\", \"outcomeType\": 4}}, \"*\")"
      ],
      "text/plain": [
       "<IPython.core.display.Javascript object>"
      ]
     },
     "metadata": {},
     "output_type": "display_data"
    },
    {
     "data": {
      "text/markdown": [
       "<span style=\"color:#3366cc\">Hint:</span> Use the index method to find when the person arrived. Check whether that is a fashionably late spot given the list length (`len`). Think about 0-indexing"
      ],
      "text/plain": [
       "Hint: Use the index method to find when the person arrived. Check whether that is a fashionably late spot given the list length (`len`). Think about 0-indexing"
      ]
     },
     "metadata": {},
     "output_type": "display_data"
    },
    {
     "data": {
      "application/javascript": [
       "parent.postMessage({\"jupyterEvent\": \"custom.exercise_interaction\", \"data\": {\"interactionType\": 3, \"questionType\": 2, \"questionId\": \"5_FashionablyLate\", \"learnToolsVersion\": \"0.3.4\", \"valueTowardsCompletion\": 0.0, \"failureMessage\": \"\", \"exceptionClass\": \"\", \"trace\": \"\", \"outcomeType\": 4}}, \"*\")"
      ],
      "text/plain": [
       "<IPython.core.display.Javascript object>"
      ]
     },
     "metadata": {},
     "output_type": "display_data"
    },
    {
     "data": {
      "text/markdown": [
       "<span style=\"color:#33cc99\">Solution:</span> \n",
       "```python\n",
       "def fashionably_late(arrivals, name):\n",
       "    order = arrivals.index(name)\n",
       "    return order >= len(arrivals) / 2 and order != len(arrivals) - 1\n",
       "```"
      ],
      "text/plain": [
       "Solution: \n",
       "```python\n",
       "def fashionably_late(arrivals, name):\n",
       "    order = arrivals.index(name)\n",
       "    return order >= len(arrivals) / 2 and order != len(arrivals) - 1\n",
       "```"
      ]
     },
     "metadata": {},
     "output_type": "display_data"
    }
   ],
   "source": [
    "q5.hint()\n",
    "q5.solution()"
   ]
  },
  {
   "cell_type": "markdown",
   "id": "db78d973",
   "metadata": {
    "papermill": {
     "duration": 0.007459,
     "end_time": "2024-11-19T18:20:22.660523",
     "exception": false,
     "start_time": "2024-11-19T18:20:22.653064",
     "status": "completed"
    },
    "tags": []
   },
   "source": [
    "# Keep Going\n",
    "\n",
    "That's it for lists and tuples! Now you have the baseline knowledge to **[learn about loops](https://www.kaggle.com/colinmorris/loops-and-list-comprehensions)**, which is where lists and tuples get really interesting. "
   ]
  },
  {
   "cell_type": "markdown",
   "id": "f4e3a964",
   "metadata": {
    "papermill": {
     "duration": 0.007302,
     "end_time": "2024-11-19T18:20:22.675143",
     "exception": false,
     "start_time": "2024-11-19T18:20:22.667841",
     "status": "completed"
    },
    "tags": []
   },
   "source": [
    "---\n",
    "\n",
    "\n",
    "\n",
    "\n",
    "*Have questions or comments? Visit the [course discussion forum](https://www.kaggle.com/learn/python/discussion) to chat with other learners.*"
   ]
  }
 ],
 "metadata": {
  "kaggle": {
   "accelerator": "none",
   "dataSources": [],
   "isGpuEnabled": false,
   "isInternetEnabled": false,
   "language": "python",
   "sourceType": "notebook"
  },
  "kernelspec": {
   "display_name": "Python 3",
   "language": "python",
   "name": "python3"
  },
  "language_info": {
   "codemirror_mode": {
    "name": "ipython",
    "version": 3
   },
   "file_extension": ".py",
   "mimetype": "text/x-python",
   "name": "python",
   "nbconvert_exporter": "python",
   "pygments_lexer": "ipython3",
   "version": "3.10.14"
  },
  "learntools_metadata": {
   "lesson_index": 3,
   "type": "exercise"
  },
  "papermill": {
   "default_parameters": {},
   "duration": 4.660772,
   "end_time": "2024-11-19T18:20:23.204029",
   "environment_variables": {},
   "exception": null,
   "input_path": "__notebook__.ipynb",
   "output_path": "__notebook__.ipynb",
   "parameters": {},
   "start_time": "2024-11-19T18:20:18.543257",
   "version": "2.6.0"
  }
 },
 "nbformat": 4,
 "nbformat_minor": 5
}
