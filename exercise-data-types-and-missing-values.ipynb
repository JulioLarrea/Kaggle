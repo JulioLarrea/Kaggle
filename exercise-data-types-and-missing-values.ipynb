{
 "cells": [
  {
   "cell_type": "markdown",
   "id": "5ac7223a",
   "metadata": {
    "papermill": {
     "duration": 0.006076,
     "end_time": "2024-11-14T19:16:48.080594",
     "exception": false,
     "start_time": "2024-11-14T19:16:48.074518",
     "status": "completed"
    },
    "tags": []
   },
   "source": [
    "**This notebook is an exercise in the [Pandas](https://www.kaggle.com/learn/pandas) course.  You can reference the tutorial at [this link](https://www.kaggle.com/residentmario/data-types-and-missing-values).**\n",
    "\n",
    "---\n"
   ]
  },
  {
   "cell_type": "markdown",
   "id": "1b09e7f1",
   "metadata": {
    "papermill": {
     "duration": 0.004629,
     "end_time": "2024-11-14T19:16:48.090437",
     "exception": false,
     "start_time": "2024-11-14T19:16:48.085808",
     "status": "completed"
    },
    "tags": []
   },
   "source": [
    "# Introduction\n",
    "\n",
    "Run the following cell to load your data and some utility functions."
   ]
  },
  {
   "cell_type": "code",
   "execution_count": 1,
   "id": "aeb7aadb",
   "metadata": {
    "execution": {
     "iopub.execute_input": "2024-11-14T19:16:48.101901Z",
     "iopub.status.busy": "2024-11-14T19:16:48.101375Z",
     "iopub.status.idle": "2024-11-14T19:16:52.130908Z",
     "shell.execute_reply": "2024-11-14T19:16:52.129557Z"
    },
    "papermill": {
     "duration": 4.038292,
     "end_time": "2024-11-14T19:16:52.133529",
     "exception": false,
     "start_time": "2024-11-14T19:16:48.095237",
     "status": "completed"
    },
    "tags": []
   },
   "outputs": [
    {
     "name": "stdout",
     "output_type": "stream",
     "text": [
      "Setup complete.\n"
     ]
    }
   ],
   "source": [
    "import pandas as pd\n",
    "\n",
    "reviews = pd.read_csv(\"../input/wine-reviews/winemag-data-130k-v2.csv\", index_col=0)\n",
    "\n",
    "from learntools.core import binder; binder.bind(globals())\n",
    "from learntools.pandas.data_types_and_missing_data import *\n",
    "print(\"Setup complete.\")"
   ]
  },
  {
   "cell_type": "code",
   "execution_count": 2,
   "id": "889842b1",
   "metadata": {
    "execution": {
     "iopub.execute_input": "2024-11-14T19:16:52.145807Z",
     "iopub.status.busy": "2024-11-14T19:16:52.145377Z",
     "iopub.status.idle": "2024-11-14T19:16:53.362792Z",
     "shell.execute_reply": "2024-11-14T19:16:53.360806Z"
    },
    "papermill": {
     "duration": 1.226645,
     "end_time": "2024-11-14T19:16:53.365549",
     "exception": false,
     "start_time": "2024-11-14T19:16:52.138904",
     "status": "completed"
    },
    "tags": []
   },
   "outputs": [
    {
     "name": "stdout",
     "output_type": "stream",
     "text": [
      "Setup complete.\n"
     ]
    }
   ],
   "source": [
    "import pandas as pd\n",
    "\n",
    "reviews = pd.read_csv(\"../input/wine-reviews/winemag-data-130k-v2.csv\", index_col=0)\n",
    "\n",
    "from learntools.core import binder; binder.bind(globals())\n",
    "from learntools.pandas.data_types_and_missing_data import *\n",
    "print(\"Setup complete.\")"
   ]
  },
  {
   "cell_type": "markdown",
   "id": "0261ad6c",
   "metadata": {
    "papermill": {
     "duration": 0.004781,
     "end_time": "2024-11-14T19:16:53.375749",
     "exception": false,
     "start_time": "2024-11-14T19:16:53.370968",
     "status": "completed"
    },
    "tags": []
   },
   "source": [
    "# Exercises"
   ]
  },
  {
   "cell_type": "markdown",
   "id": "f8b99711",
   "metadata": {
    "papermill": {
     "duration": 0.004849,
     "end_time": "2024-11-14T19:16:53.385988",
     "exception": false,
     "start_time": "2024-11-14T19:16:53.381139",
     "status": "completed"
    },
    "tags": []
   },
   "source": [
    "## 1. \n",
    "What is the data type of the `points` column in the dataset?"
   ]
  },
  {
   "cell_type": "code",
   "execution_count": 3,
   "id": "7305d181",
   "metadata": {
    "execution": {
     "iopub.execute_input": "2024-11-14T19:16:53.398153Z",
     "iopub.status.busy": "2024-11-14T19:16:53.397641Z",
     "iopub.status.idle": "2024-11-14T19:16:53.412691Z",
     "shell.execute_reply": "2024-11-14T19:16:53.411357Z"
    },
    "papermill": {
     "duration": 0.024287,
     "end_time": "2024-11-14T19:16:53.415490",
     "exception": false,
     "start_time": "2024-11-14T19:16:53.391203",
     "status": "completed"
    },
    "tags": []
   },
   "outputs": [
    {
     "data": {
      "application/javascript": [
       "parent.postMessage({\"jupyterEvent\": \"custom.exercise_interaction\", \"data\": {\"outcomeType\": 1, \"valueTowardsCompletion\": 0.25, \"interactionType\": 1, \"questionType\": 1, \"questionId\": \"1_PointsDtype\", \"learnToolsVersion\": \"0.3.4\", \"failureMessage\": \"\", \"exceptionClass\": \"\", \"trace\": \"\"}}, \"*\")"
      ],
      "text/plain": [
       "<IPython.core.display.Javascript object>"
      ]
     },
     "metadata": {},
     "output_type": "display_data"
    },
    {
     "data": {
      "text/markdown": [
       "<span style=\"color:#33cc33\">Correct</span>"
      ],
      "text/plain": [
       "Correct"
      ]
     },
     "metadata": {},
     "output_type": "display_data"
    },
    {
     "data": {
      "text/plain": [
       "dtype('int64')"
      ]
     },
     "execution_count": 3,
     "metadata": {},
     "output_type": "execute_result"
    }
   ],
   "source": [
    "# Your code here\n",
    "dtype = reviews.points.dtype\n",
    "\n",
    "# Check your answer\n",
    "q1.check()\n",
    "\n",
    "dtype"
   ]
  },
  {
   "cell_type": "code",
   "execution_count": 4,
   "id": "42a9a722",
   "metadata": {
    "execution": {
     "iopub.execute_input": "2024-11-14T19:16:53.429527Z",
     "iopub.status.busy": "2024-11-14T19:16:53.429146Z",
     "iopub.status.idle": "2024-11-14T19:16:53.433956Z",
     "shell.execute_reply": "2024-11-14T19:16:53.432763Z"
    },
    "papermill": {
     "duration": 0.014151,
     "end_time": "2024-11-14T19:16:53.436408",
     "exception": false,
     "start_time": "2024-11-14T19:16:53.422257",
     "status": "completed"
    },
    "tags": []
   },
   "outputs": [],
   "source": [
    "#q1.hint()\n",
    "#q1.solution()"
   ]
  },
  {
   "cell_type": "code",
   "execution_count": 5,
   "id": "a264a027",
   "metadata": {
    "execution": {
     "iopub.execute_input": "2024-11-14T19:16:53.450824Z",
     "iopub.status.busy": "2024-11-14T19:16:53.449616Z",
     "iopub.status.idle": "2024-11-14T19:16:53.464312Z",
     "shell.execute_reply": "2024-11-14T19:16:53.462005Z"
    },
    "papermill": {
     "duration": 0.025972,
     "end_time": "2024-11-14T19:16:53.468056",
     "exception": false,
     "start_time": "2024-11-14T19:16:53.442084",
     "status": "completed"
    },
    "tags": []
   },
   "outputs": [
    {
     "data": {
      "text/plain": [
       "country                   object\n",
       "description               object\n",
       "designation               object\n",
       "points                     int64\n",
       "price                    float64\n",
       "province                  object\n",
       "region_1                  object\n",
       "region_2                  object\n",
       "taster_name               object\n",
       "taster_twitter_handle     object\n",
       "title                     object\n",
       "variety                   object\n",
       "winery                    object\n",
       "dtype: object"
      ]
     },
     "execution_count": 5,
     "metadata": {},
     "output_type": "execute_result"
    }
   ],
   "source": [
    "dtype_2 = reviews.dtypes\n",
    "\n",
    "dtype_2"
   ]
  },
  {
   "cell_type": "markdown",
   "id": "dd0215bc",
   "metadata": {
    "papermill": {
     "duration": 0.006239,
     "end_time": "2024-11-14T19:16:53.482507",
     "exception": false,
     "start_time": "2024-11-14T19:16:53.476268",
     "status": "completed"
    },
    "tags": []
   },
   "source": [
    "## 2. \n",
    "Create a Series from entries in the `points` column, but convert the entries to strings. Hint: strings are `str` in native Python."
   ]
  },
  {
   "cell_type": "code",
   "execution_count": 6,
   "id": "5b3a875f",
   "metadata": {
    "execution": {
     "iopub.execute_input": "2024-11-14T19:16:53.499208Z",
     "iopub.status.busy": "2024-11-14T19:16:53.498466Z",
     "iopub.status.idle": "2024-11-14T19:16:53.562763Z",
     "shell.execute_reply": "2024-11-14T19:16:53.561588Z"
    },
    "papermill": {
     "duration": 0.076787,
     "end_time": "2024-11-14T19:16:53.565602",
     "exception": false,
     "start_time": "2024-11-14T19:16:53.488815",
     "status": "completed"
    },
    "tags": []
   },
   "outputs": [
    {
     "data": {
      "application/javascript": [
       "parent.postMessage({\"jupyterEvent\": \"custom.exercise_interaction\", \"data\": {\"outcomeType\": 1, \"valueTowardsCompletion\": 0.25, \"interactionType\": 1, \"questionType\": 1, \"questionId\": \"2_StrPoints\", \"learnToolsVersion\": \"0.3.4\", \"failureMessage\": \"\", \"exceptionClass\": \"\", \"trace\": \"\"}}, \"*\")"
      ],
      "text/plain": [
       "<IPython.core.display.Javascript object>"
      ]
     },
     "metadata": {},
     "output_type": "display_data"
    },
    {
     "data": {
      "text/markdown": [
       "<span style=\"color:#33cc33\">Correct</span>"
      ],
      "text/plain": [
       "Correct"
      ]
     },
     "metadata": {},
     "output_type": "display_data"
    },
    {
     "data": {
      "text/plain": [
       "0         87\n",
       "1         87\n",
       "2         87\n",
       "3         87\n",
       "4         87\n",
       "          ..\n",
       "129966    90\n",
       "129967    90\n",
       "129968    90\n",
       "129969    90\n",
       "129970    90\n",
       "Name: points, Length: 129971, dtype: object"
      ]
     },
     "execution_count": 6,
     "metadata": {},
     "output_type": "execute_result"
    }
   ],
   "source": [
    "point_strings = reviews.points.astype('str')\n",
    "\n",
    "# Check your answer\n",
    "q2.check()\n",
    "\n",
    "point_strings"
   ]
  },
  {
   "cell_type": "code",
   "execution_count": 7,
   "id": "448a0005",
   "metadata": {
    "execution": {
     "iopub.execute_input": "2024-11-14T19:16:53.588118Z",
     "iopub.status.busy": "2024-11-14T19:16:53.585422Z",
     "iopub.status.idle": "2024-11-14T19:16:53.601265Z",
     "shell.execute_reply": "2024-11-14T19:16:53.599025Z"
    },
    "papermill": {
     "duration": 0.030896,
     "end_time": "2024-11-14T19:16:53.603948",
     "exception": false,
     "start_time": "2024-11-14T19:16:53.573052",
     "status": "completed"
    },
    "tags": []
   },
   "outputs": [
    {
     "data": {
      "application/javascript": [
       "parent.postMessage({\"jupyterEvent\": \"custom.exercise_interaction\", \"data\": {\"interactionType\": 2, \"questionType\": 1, \"questionId\": \"2_StrPoints\", \"learnToolsVersion\": \"0.3.4\", \"valueTowardsCompletion\": 0.0, \"failureMessage\": \"\", \"exceptionClass\": \"\", \"trace\": \"\", \"outcomeType\": 4}}, \"*\")"
      ],
      "text/plain": [
       "<IPython.core.display.Javascript object>"
      ]
     },
     "metadata": {},
     "output_type": "display_data"
    },
    {
     "data": {
      "text/markdown": [
       "<span style=\"color:#3366cc\">Hint:</span> Convert a column of one type to another by using the `astype` function."
      ],
      "text/plain": [
       "Hint: Convert a column of one type to another by using the `astype` function."
      ]
     },
     "metadata": {},
     "output_type": "display_data"
    }
   ],
   "source": [
    "q2.hint()\n",
    "#q2.solution()"
   ]
  },
  {
   "cell_type": "markdown",
   "id": "71a13ca2",
   "metadata": {
    "papermill": {
     "duration": 0.005949,
     "end_time": "2024-11-14T19:16:53.616741",
     "exception": false,
     "start_time": "2024-11-14T19:16:53.610792",
     "status": "completed"
    },
    "tags": []
   },
   "source": [
    "## 3.\n",
    "Sometimes the price column is null. How many reviews in the dataset are missing a price?"
   ]
  },
  {
   "cell_type": "code",
   "execution_count": 8,
   "id": "e316831d",
   "metadata": {
    "execution": {
     "iopub.execute_input": "2024-11-14T19:16:53.632983Z",
     "iopub.status.busy": "2024-11-14T19:16:53.631813Z",
     "iopub.status.idle": "2024-11-14T19:16:53.655474Z",
     "shell.execute_reply": "2024-11-14T19:16:53.654105Z"
    },
    "papermill": {
     "duration": 0.034361,
     "end_time": "2024-11-14T19:16:53.657995",
     "exception": false,
     "start_time": "2024-11-14T19:16:53.623634",
     "status": "completed"
    },
    "tags": []
   },
   "outputs": [
    {
     "data": {
      "application/javascript": [
       "parent.postMessage({\"jupyterEvent\": \"custom.exercise_interaction\", \"data\": {\"outcomeType\": 1, \"valueTowardsCompletion\": 0.25, \"interactionType\": 1, \"questionType\": 1, \"questionId\": \"3_CountMissingPrices\", \"learnToolsVersion\": \"0.3.4\", \"failureMessage\": \"\", \"exceptionClass\": \"\", \"trace\": \"\"}}, \"*\")"
      ],
      "text/plain": [
       "<IPython.core.display.Javascript object>"
      ]
     },
     "metadata": {},
     "output_type": "display_data"
    },
    {
     "data": {
      "text/markdown": [
       "<span style=\"color:#33cc33\">Correct</span>"
      ],
      "text/plain": [
       "Correct"
      ]
     },
     "metadata": {},
     "output_type": "display_data"
    },
    {
     "data": {
      "text/plain": [
       "8996"
      ]
     },
     "execution_count": 8,
     "metadata": {},
     "output_type": "execute_result"
    }
   ],
   "source": [
    "missing_prince_reviews = reviews[reviews.price.isnull()]\n",
    "n_missing_prices = len(missing_prince_reviews)\n",
    "n_missing_prices = reviews.price.isnull().sum()\n",
    "n_missing_prices = pd.isnull(reviews.price).sum()\n",
    "\n",
    "# Check your answer\n",
    "q3.check()\n",
    "\n",
    "n_missing_prices"
   ]
  },
  {
   "cell_type": "code",
   "execution_count": 9,
   "id": "1ccc7b86",
   "metadata": {
    "execution": {
     "iopub.execute_input": "2024-11-14T19:16:53.674325Z",
     "iopub.status.busy": "2024-11-14T19:16:53.673589Z",
     "iopub.status.idle": "2024-11-14T19:16:53.691051Z",
     "shell.execute_reply": "2024-11-14T19:16:53.689668Z"
    },
    "papermill": {
     "duration": 0.029523,
     "end_time": "2024-11-14T19:16:53.694320",
     "exception": false,
     "start_time": "2024-11-14T19:16:53.664797",
     "status": "completed"
    },
    "tags": []
   },
   "outputs": [
    {
     "data": {
      "application/javascript": [
       "parent.postMessage({\"jupyterEvent\": \"custom.exercise_interaction\", \"data\": {\"interactionType\": 2, \"questionType\": 1, \"questionId\": \"3_CountMissingPrices\", \"learnToolsVersion\": \"0.3.4\", \"valueTowardsCompletion\": 0.0, \"failureMessage\": \"\", \"exceptionClass\": \"\", \"trace\": \"\", \"outcomeType\": 4}}, \"*\")"
      ],
      "text/plain": [
       "<IPython.core.display.Javascript object>"
      ]
     },
     "metadata": {},
     "output_type": "display_data"
    },
    {
     "data": {
      "text/markdown": [
       "<span style=\"color:#3366cc\">Hint:</span> Use `pd.isnull()`."
      ],
      "text/plain": [
       "Hint: Use `pd.isnull()`."
      ]
     },
     "metadata": {},
     "output_type": "display_data"
    },
    {
     "data": {
      "application/javascript": [
       "parent.postMessage({\"jupyterEvent\": \"custom.exercise_interaction\", \"data\": {\"interactionType\": 3, \"questionType\": 1, \"questionId\": \"3_CountMissingPrices\", \"learnToolsVersion\": \"0.3.4\", \"valueTowardsCompletion\": 0.0, \"failureMessage\": \"\", \"exceptionClass\": \"\", \"trace\": \"\", \"outcomeType\": 4}}, \"*\")"
      ],
      "text/plain": [
       "<IPython.core.display.Javascript object>"
      ]
     },
     "metadata": {},
     "output_type": "display_data"
    },
    {
     "data": {
      "text/markdown": [
       "<span style=\"color:#33cc99\">Solution:</span> \n",
       "```python\n",
       "missing_price_reviews = reviews[reviews.price.isnull()]\n",
       "n_missing_prices = len(missing_price_reviews)\n",
       "# Cute alternative solution: if we sum a boolean series, True is treated as 1 and False as 0\n",
       "n_missing_prices = reviews.price.isnull().sum()\n",
       "# or equivalently:\n",
       "n_missing_prices = pd.isnull(reviews.price).sum()\n",
       "\n",
       "```"
      ],
      "text/plain": [
       "Solution: \n",
       "```python\n",
       "missing_price_reviews = reviews[reviews.price.isnull()]\n",
       "n_missing_prices = len(missing_price_reviews)\n",
       "# Cute alternative solution: if we sum a boolean series, True is treated as 1 and False as 0\n",
       "n_missing_prices = reviews.price.isnull().sum()\n",
       "# or equivalently:\n",
       "n_missing_prices = pd.isnull(reviews.price).sum()\n",
       "\n",
       "```"
      ]
     },
     "metadata": {},
     "output_type": "display_data"
    }
   ],
   "source": [
    "q3.hint()\n",
    "q3.solution()"
   ]
  },
  {
   "cell_type": "markdown",
   "id": "37841e5c",
   "metadata": {
    "papermill": {
     "duration": 0.008248,
     "end_time": "2024-11-14T19:16:53.711169",
     "exception": false,
     "start_time": "2024-11-14T19:16:53.702921",
     "status": "completed"
    },
    "tags": []
   },
   "source": [
    "## 4.\n",
    "What are the most common wine-producing regions? Create a Series counting the number of times each value occurs in the `region_1` field. This field is often missing data, so replace missing values with `Unknown`. Sort in descending order.  Your output should look something like this:\n",
    "\n",
    "```\n",
    "Unknown                    21247\n",
    "Napa Valley                 4480\n",
    "                           ...  \n",
    "Bardolino Superiore            1\n",
    "Primitivo del Tarantino        1\n",
    "Name: region_1, Length: 1230, dtype: int64\n",
    "```"
   ]
  },
  {
   "cell_type": "code",
   "execution_count": 10,
   "id": "b717b079",
   "metadata": {
    "execution": {
     "iopub.execute_input": "2024-11-14T19:16:53.728846Z",
     "iopub.status.busy": "2024-11-14T19:16:53.728305Z",
     "iopub.status.idle": "2024-11-14T19:16:53.797163Z",
     "shell.execute_reply": "2024-11-14T19:16:53.795982Z"
    },
    "papermill": {
     "duration": 0.080441,
     "end_time": "2024-11-14T19:16:53.799401",
     "exception": false,
     "start_time": "2024-11-14T19:16:53.718960",
     "status": "completed"
    },
    "tags": []
   },
   "outputs": [
    {
     "data": {
      "application/javascript": [
       "parent.postMessage({\"jupyterEvent\": \"custom.exercise_interaction\", \"data\": {\"outcomeType\": 1, \"valueTowardsCompletion\": 0.25, \"interactionType\": 1, \"questionType\": 2, \"questionId\": \"4_ReviewsPerRegion\", \"learnToolsVersion\": \"0.3.4\", \"failureMessage\": \"\", \"exceptionClass\": \"\", \"trace\": \"\"}}, \"*\")"
      ],
      "text/plain": [
       "<IPython.core.display.Javascript object>"
      ]
     },
     "metadata": {},
     "output_type": "display_data"
    },
    {
     "data": {
      "text/markdown": [
       "<span style=\"color:#33cc33\">Correct</span>"
      ],
      "text/plain": [
       "Correct"
      ]
     },
     "metadata": {},
     "output_type": "display_data"
    },
    {
     "data": {
      "text/plain": [
       "region_1\n",
       "Unknown                 21247\n",
       "Napa Valley              4480\n",
       "Columbia Valley (WA)     4124\n",
       "Russian River Valley     3091\n",
       "California               2629\n",
       "                        ...  \n",
       "Offida Rosso                1\n",
       "Corton Perrières            1\n",
       "Isle St. George             1\n",
       "Geelong                     1\n",
       "Paestum                     1\n",
       "Name: count, Length: 1230, dtype: int64"
      ]
     },
     "execution_count": 10,
     "metadata": {},
     "output_type": "execute_result"
    }
   ],
   "source": [
    "reviews_per_region = reviews.region_1.fillna('Unknown').value_counts().sort_values(ascending=False)\n",
    "\n",
    "# Check your answer\n",
    "q4.check()\n",
    "\n",
    "reviews_per_region"
   ]
  },
  {
   "cell_type": "code",
   "execution_count": 11,
   "id": "235e2901",
   "metadata": {
    "execution": {
     "iopub.execute_input": "2024-11-14T19:16:53.816709Z",
     "iopub.status.busy": "2024-11-14T19:16:53.815957Z",
     "iopub.status.idle": "2024-11-14T19:16:53.829608Z",
     "shell.execute_reply": "2024-11-14T19:16:53.828485Z"
    },
    "papermill": {
     "duration": 0.024973,
     "end_time": "2024-11-14T19:16:53.832034",
     "exception": false,
     "start_time": "2024-11-14T19:16:53.807061",
     "status": "completed"
    },
    "tags": []
   },
   "outputs": [
    {
     "data": {
      "application/javascript": [
       "parent.postMessage({\"jupyterEvent\": \"custom.exercise_interaction\", \"data\": {\"interactionType\": 2, \"questionType\": 2, \"questionId\": \"4_ReviewsPerRegion\", \"learnToolsVersion\": \"0.3.4\", \"valueTowardsCompletion\": 0.0, \"failureMessage\": \"\", \"exceptionClass\": \"\", \"trace\": \"\", \"outcomeType\": 4}}, \"*\")"
      ],
      "text/plain": [
       "<IPython.core.display.Javascript object>"
      ]
     },
     "metadata": {},
     "output_type": "display_data"
    },
    {
     "data": {
      "text/markdown": [
       "<span style=\"color:#3366cc\">Hint:</span> Use `fillna()`, `value_counts()`, and `sort_values()`."
      ],
      "text/plain": [
       "Hint: Use `fillna()`, `value_counts()`, and `sort_values()`."
      ]
     },
     "metadata": {},
     "output_type": "display_data"
    },
    {
     "data": {
      "application/javascript": [
       "parent.postMessage({\"jupyterEvent\": \"custom.exercise_interaction\", \"data\": {\"interactionType\": 3, \"questionType\": 2, \"questionId\": \"4_ReviewsPerRegion\", \"learnToolsVersion\": \"0.3.4\", \"valueTowardsCompletion\": 0.0, \"failureMessage\": \"\", \"exceptionClass\": \"\", \"trace\": \"\", \"outcomeType\": 4}}, \"*\")"
      ],
      "text/plain": [
       "<IPython.core.display.Javascript object>"
      ]
     },
     "metadata": {},
     "output_type": "display_data"
    },
    {
     "data": {
      "text/markdown": [
       "<span style=\"color:#33cc99\">Solution:</span> \n",
       "```python\n",
       "reviews_per_region = reviews.region_1.fillna('Unknown').value_counts().sort_values(ascending=False)\n",
       "```"
      ],
      "text/plain": [
       "Solution: \n",
       "```python\n",
       "reviews_per_region = reviews.region_1.fillna('Unknown').value_counts().sort_values(ascending=False)\n",
       "```"
      ]
     },
     "metadata": {},
     "output_type": "display_data"
    }
   ],
   "source": [
    "q4.hint()\n",
    "q4.solution()"
   ]
  },
  {
   "cell_type": "markdown",
   "id": "61248541",
   "metadata": {
    "papermill": {
     "duration": 0.007613,
     "end_time": "2024-11-14T19:16:53.848167",
     "exception": false,
     "start_time": "2024-11-14T19:16:53.840554",
     "status": "completed"
    },
    "tags": []
   },
   "source": [
    "# Keep going\n",
    "\n",
    "Move on to **[renaming and combining](https://www.kaggle.com/residentmario/renaming-and-combining)**."
   ]
  },
  {
   "cell_type": "markdown",
   "id": "89d32b14",
   "metadata": {
    "papermill": {
     "duration": 0.008194,
     "end_time": "2024-11-14T19:16:53.864272",
     "exception": false,
     "start_time": "2024-11-14T19:16:53.856078",
     "status": "completed"
    },
    "tags": []
   },
   "source": [
    "---\n",
    "\n",
    "\n",
    "\n",
    "\n",
    "*Have questions or comments? Visit the [course discussion forum](https://www.kaggle.com/learn/pandas/discussion) to chat with other learners.*"
   ]
  }
 ],
 "metadata": {
  "kaggle": {
   "accelerator": "none",
   "dataSources": [
    {
     "datasetId": 655,
     "sourceId": 1252,
     "sourceType": "datasetVersion"
    },
    {
     "datasetId": 2321,
     "sourceId": 3919,
     "sourceType": "datasetVersion"
    },
    {
     "datasetId": 2894,
     "sourceId": 4877,
     "sourceType": "datasetVersion"
    },
    {
     "datasetId": 3491,
     "sourceId": 5624,
     "sourceType": "datasetVersion"
    },
    {
     "datasetId": 1442,
     "sourceId": 8172,
     "sourceType": "datasetVersion"
    },
    {
     "datasetId": 9366,
     "sourceId": 13206,
     "sourceType": "datasetVersion"
    },
    {
     "datasetId": 179555,
     "sourceId": 403916,
     "sourceType": "datasetVersion"
    },
    {
     "datasetId": 4549,
     "sourceId": 466349,
     "sourceType": "datasetVersion"
    },
    {
     "datasetId": 2478,
     "sourceId": 1151655,
     "sourceType": "datasetVersion"
    },
    {
     "datasetId": 10128,
     "sourceId": 5438389,
     "sourceType": "datasetVersion"
    }
   ],
   "isGpuEnabled": false,
   "isInternetEnabled": false,
   "language": "python",
   "sourceType": "notebook"
  },
  "kernelspec": {
   "display_name": "Python 3",
   "language": "python",
   "name": "python3"
  },
  "language_info": {
   "codemirror_mode": {
    "name": "ipython",
    "version": 3
   },
   "file_extension": ".py",
   "mimetype": "text/x-python",
   "name": "python",
   "nbconvert_exporter": "python",
   "pygments_lexer": "ipython3",
   "version": "3.10.14"
  },
  "papermill": {
   "default_parameters": {},
   "duration": 9.415773,
   "end_time": "2024-11-14T19:16:54.494224",
   "environment_variables": {},
   "exception": null,
   "input_path": "__notebook__.ipynb",
   "output_path": "__notebook__.ipynb",
   "parameters": {},
   "start_time": "2024-11-14T19:16:45.078451",
   "version": "2.6.0"
  }
 },
 "nbformat": 4,
 "nbformat_minor": 5
}
