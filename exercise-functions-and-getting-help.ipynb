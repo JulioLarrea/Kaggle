{
 "cells": [
  {
   "cell_type": "markdown",
   "id": "30a7a560",
   "metadata": {
    "papermill": {
     "duration": 0.005925,
     "end_time": "2024-11-19T15:35:08.699039",
     "exception": false,
     "start_time": "2024-11-19T15:35:08.693114",
     "status": "completed"
    },
    "tags": []
   },
   "source": [
    "**This notebook is an exercise in the [Python](https://www.kaggle.com/learn/python) course.  You can reference the tutorial at [this link](https://www.kaggle.com/colinmorris/functions-and-getting-help).**\n",
    "\n",
    "---\n"
   ]
  },
  {
   "cell_type": "markdown",
   "id": "0e30e2a8",
   "metadata": {
    "papermill": {
     "duration": 0.005579,
     "end_time": "2024-11-19T15:35:08.709801",
     "exception": false,
     "start_time": "2024-11-19T15:35:08.704222",
     "status": "completed"
    },
    "tags": []
   },
   "source": [
    "Functions are powerful. Try writing some yourself.\n",
    "\n",
    "As before, don't forget to run the setup code below before jumping into question 1."
   ]
  },
  {
   "cell_type": "code",
   "execution_count": 1,
   "id": "2be1cacd",
   "metadata": {
    "_kg_hide-input": true,
    "_kg_hide-output": true,
    "execution": {
     "iopub.execute_input": "2024-11-19T15:35:08.721567Z",
     "iopub.status.busy": "2024-11-19T15:35:08.721131Z",
     "iopub.status.idle": "2024-11-19T15:35:09.789304Z",
     "shell.execute_reply": "2024-11-19T15:35:09.788229Z"
    },
    "papermill": {
     "duration": 1.07689,
     "end_time": "2024-11-19T15:35:09.791744",
     "exception": false,
     "start_time": "2024-11-19T15:35:08.714854",
     "status": "completed"
    },
    "tags": []
   },
   "outputs": [
    {
     "name": "stdout",
     "output_type": "stream",
     "text": [
      "Setup complete.\n"
     ]
    }
   ],
   "source": [
    "# SETUP. You don't need to worry for now about what this code does or how it works.\n",
    "from learntools.core import binder; binder.bind(globals())\n",
    "from learntools.python.ex2 import *\n",
    "print('Setup complete.')"
   ]
  },
  {
   "cell_type": "code",
   "execution_count": 2,
   "id": "68ddf5dc",
   "metadata": {
    "execution": {
     "iopub.execute_input": "2024-11-19T15:35:09.803106Z",
     "iopub.status.busy": "2024-11-19T15:35:09.802653Z",
     "iopub.status.idle": "2024-11-19T15:35:09.808903Z",
     "shell.execute_reply": "2024-11-19T15:35:09.807674Z"
    },
    "papermill": {
     "duration": 0.014511,
     "end_time": "2024-11-19T15:35:09.811332",
     "exception": false,
     "start_time": "2024-11-19T15:35:09.796821",
     "status": "completed"
    },
    "tags": []
   },
   "outputs": [
    {
     "name": "stdout",
     "output_type": "stream",
     "text": [
      "Setup complete.\n"
     ]
    }
   ],
   "source": [
    "from learntools.core import binder; binder.bind(globals())\n",
    "from learntools.python.ex2 import *\n",
    "print('Setup complete.')"
   ]
  },
  {
   "cell_type": "markdown",
   "id": "7e1923f6",
   "metadata": {
    "papermill": {
     "duration": 0.004588,
     "end_time": "2024-11-19T15:35:09.820479",
     "exception": false,
     "start_time": "2024-11-19T15:35:09.815891",
     "status": "completed"
    },
    "tags": []
   },
   "source": [
    "# 1.\n",
    "\n",
    "Complete the body of the following function according to its docstring.\n",
    "\n",
    "HINT: Python has a built-in function `round`."
   ]
  },
  {
   "cell_type": "code",
   "execution_count": 3,
   "id": "857542b4",
   "metadata": {
    "execution": {
     "iopub.execute_input": "2024-11-19T15:35:09.831076Z",
     "iopub.status.busy": "2024-11-19T15:35:09.830748Z",
     "iopub.status.idle": "2024-11-19T15:35:09.841287Z",
     "shell.execute_reply": "2024-11-19T15:35:09.840193Z"
    },
    "papermill": {
     "duration": 0.01835,
     "end_time": "2024-11-19T15:35:09.843337",
     "exception": false,
     "start_time": "2024-11-19T15:35:09.824987",
     "status": "completed"
    },
    "tags": []
   },
   "outputs": [
    {
     "data": {
      "application/javascript": [
       "parent.postMessage({\"jupyterEvent\": \"custom.exercise_interaction\", \"data\": {\"outcomeType\": 1, \"valueTowardsCompletion\": 0.16666666666666666, \"interactionType\": 1, \"questionType\": 2, \"questionId\": \"1_RoundFunctionProblem\", \"learnToolsVersion\": \"0.3.4\", \"failureMessage\": \"\", \"exceptionClass\": \"\", \"trace\": \"\"}}, \"*\")"
      ],
      "text/plain": [
       "<IPython.core.display.Javascript object>"
      ]
     },
     "metadata": {},
     "output_type": "display_data"
    },
    {
     "data": {
      "text/markdown": [
       "<span style=\"color:#33cc33\">Correct</span>"
      ],
      "text/plain": [
       "Correct"
      ]
     },
     "metadata": {},
     "output_type": "display_data"
    }
   ],
   "source": [
    "def round_to_two_places(num):\n",
    "    \"\"\"Return the given number rounded to two decimal places. \n",
    "    \n",
    "    >>> round_to_two_places(3.14159)\n",
    "    3.14\n",
    "    \"\"\"\n",
    "    # Replace this body with your own code.\n",
    "    # (\"pass\" is a keyword that does literally nothing. We used it as a placeholder\n",
    "    # because after we begin a code block, Python requires at least one line of code)\n",
    "    return round (num, 2)\n",
    "    pass\n",
    "\n",
    "# Check your answer\n",
    "q1.check()"
   ]
  },
  {
   "cell_type": "code",
   "execution_count": 4,
   "id": "2fce3cb3",
   "metadata": {
    "execution": {
     "iopub.execute_input": "2024-11-19T15:35:09.854997Z",
     "iopub.status.busy": "2024-11-19T15:35:09.854637Z",
     "iopub.status.idle": "2024-11-19T15:35:09.860619Z",
     "shell.execute_reply": "2024-11-19T15:35:09.859540Z"
    },
    "papermill": {
     "duration": 0.013915,
     "end_time": "2024-11-19T15:35:09.862871",
     "exception": false,
     "start_time": "2024-11-19T15:35:09.848956",
     "status": "completed"
    },
    "tags": []
   },
   "outputs": [
    {
     "name": "stdout",
     "output_type": "stream",
     "text": [
      "Help on built-in function round in module builtins:\n",
      "\n",
      "round(number, ndigits=None)\n",
      "    Round a number to a given precision in decimal digits.\n",
      "    \n",
      "    The return value is an integer if ndigits is omitted or None.  Otherwise\n",
      "    the return value has the same type as the number.  ndigits may be negative.\n",
      "\n"
     ]
    }
   ],
   "source": [
    "help(round)"
   ]
  },
  {
   "cell_type": "code",
   "execution_count": 5,
   "id": "1f1d0b12",
   "metadata": {
    "execution": {
     "iopub.execute_input": "2024-11-19T15:35:09.874474Z",
     "iopub.status.busy": "2024-11-19T15:35:09.873886Z",
     "iopub.status.idle": "2024-11-19T15:35:09.886218Z",
     "shell.execute_reply": "2024-11-19T15:35:09.885158Z"
    },
    "papermill": {
     "duration": 0.02053,
     "end_time": "2024-11-19T15:35:09.888382",
     "exception": false,
     "start_time": "2024-11-19T15:35:09.867852",
     "status": "completed"
    },
    "tags": []
   },
   "outputs": [
    {
     "data": {
      "application/javascript": [
       "parent.postMessage({\"jupyterEvent\": \"custom.exercise_interaction\", \"data\": {\"interactionType\": 2, \"questionType\": 2, \"questionId\": \"1_RoundFunctionProblem\", \"learnToolsVersion\": \"0.3.4\", \"valueTowardsCompletion\": 0.0, \"failureMessage\": \"\", \"exceptionClass\": \"\", \"trace\": \"\", \"outcomeType\": 4}}, \"*\")"
      ],
      "text/plain": [
       "<IPython.core.display.Javascript object>"
      ]
     },
     "metadata": {},
     "output_type": "display_data"
    },
    {
     "data": {
      "text/markdown": [
       "<span style=\"color:#3366cc\">Hint:</span> Run `help(round)` in the console (or in a code cell) to learn more about the round function. You'll need to use the function's optional second argument."
      ],
      "text/plain": [
       "Hint: Run `help(round)` in the console (or in a code cell) to learn more about the round function. You'll need to use the function's optional second argument."
      ]
     },
     "metadata": {},
     "output_type": "display_data"
    },
    {
     "data": {
      "application/javascript": [
       "parent.postMessage({\"jupyterEvent\": \"custom.exercise_interaction\", \"data\": {\"interactionType\": 3, \"questionType\": 2, \"questionId\": \"1_RoundFunctionProblem\", \"learnToolsVersion\": \"0.3.4\", \"valueTowardsCompletion\": 0.0, \"failureMessage\": \"\", \"exceptionClass\": \"\", \"trace\": \"\", \"outcomeType\": 4}}, \"*\")"
      ],
      "text/plain": [
       "<IPython.core.display.Javascript object>"
      ]
     },
     "metadata": {},
     "output_type": "display_data"
    },
    {
     "data": {
      "text/markdown": [
       "<span style=\"color:#33cc99\">Solution:</span> \n",
       "```python\n",
       "return round(num, 2)\n",
       "```"
      ],
      "text/plain": [
       "Solution: \n",
       "```python\n",
       "return round(num, 2)\n",
       "```"
      ]
     },
     "metadata": {},
     "output_type": "display_data"
    }
   ],
   "source": [
    "# Uncomment the following for a hint\n",
    "q1.hint()\n",
    "# Or uncomment the following to peek at the solution\n",
    "q1.solution()"
   ]
  },
  {
   "cell_type": "markdown",
   "id": "272b7f57",
   "metadata": {
    "papermill": {
     "duration": 0.005152,
     "end_time": "2024-11-19T15:35:09.898826",
     "exception": false,
     "start_time": "2024-11-19T15:35:09.893674",
     "status": "completed"
    },
    "tags": []
   },
   "source": [
    "# 2.\n",
    "The help for `round` says that `ndigits` (the second argument) may be negative.\n",
    "What do you think will happen when it is? Try some examples in the following cell."
   ]
  },
  {
   "cell_type": "code",
   "execution_count": 6,
   "id": "254838ae",
   "metadata": {
    "execution": {
     "iopub.execute_input": "2024-11-19T15:35:09.911822Z",
     "iopub.status.busy": "2024-11-19T15:35:09.910428Z",
     "iopub.status.idle": "2024-11-19T15:35:09.915967Z",
     "shell.execute_reply": "2024-11-19T15:35:09.914919Z"
    },
    "papermill": {
     "duration": 0.014078,
     "end_time": "2024-11-19T15:35:09.917992",
     "exception": false,
     "start_time": "2024-11-19T15:35:09.903914",
     "status": "completed"
    },
    "tags": []
   },
   "outputs": [],
   "source": [
    "# Put your test code here\n",
    "ndigits = -1\n",
    "ndigits = -2"
   ]
  },
  {
   "cell_type": "markdown",
   "id": "e11d7a24",
   "metadata": {
    "papermill": {
     "duration": 0.005082,
     "end_time": "2024-11-19T15:35:09.928389",
     "exception": false,
     "start_time": "2024-11-19T15:35:09.923307",
     "status": "completed"
    },
    "tags": []
   },
   "source": [
    "Can you think of a case where this would be useful?  Once you're ready, run the code cell below to see the answer and to receive credit for completing the problem."
   ]
  },
  {
   "cell_type": "code",
   "execution_count": 7,
   "id": "0c41ed08",
   "metadata": {
    "execution": {
     "iopub.execute_input": "2024-11-19T15:35:09.940161Z",
     "iopub.status.busy": "2024-11-19T15:35:09.939778Z",
     "iopub.status.idle": "2024-11-19T15:35:09.948323Z",
     "shell.execute_reply": "2024-11-19T15:35:09.947190Z"
    },
    "papermill": {
     "duration": 0.0169,
     "end_time": "2024-11-19T15:35:09.950412",
     "exception": false,
     "start_time": "2024-11-19T15:35:09.933512",
     "status": "completed"
    },
    "tags": []
   },
   "outputs": [
    {
     "data": {
      "application/javascript": [
       "parent.postMessage({\"jupyterEvent\": \"custom.exercise_interaction\", \"data\": {\"interactionType\": 3, \"questionType\": 4, \"questionId\": \"2_RoundNdigitsProblem\", \"learnToolsVersion\": \"0.3.4\", \"valueTowardsCompletion\": 0.0, \"failureMessage\": \"\", \"exceptionClass\": \"\", \"trace\": \"\", \"outcomeType\": 4}}, \"*\")"
      ],
      "text/plain": [
       "<IPython.core.display.Javascript object>"
      ]
     },
     "metadata": {},
     "output_type": "display_data"
    },
    {
     "data": {
      "text/markdown": [
       "<span style=\"color:#33cc99\">Solution:</span> As you've seen, `ndigits=-1` rounds to the nearest 10, `ndigits=-2` rounds to the nearest 100 and so on. Where might this be useful? Suppose we're dealing with large numbers:\n",
       "\n",
       "> The area of Finland is 338,424 km²  \n",
       "> The area of Greenland is 2,166,086 km²\n",
       "\n",
       "We probably don't care whether it's really 338,424, or 338,425, or 338,177. All those digits of accuracy are just distracting. We can chop them off by calling `round()` with `ndigits=-3`:\n",
       "\n",
       "> The area of Finland is 338,000 km²  \n",
       "> The area of Greenland is 2,166,000 km²\n",
       "\n",
       "(We'll talk about how we would get the commas later when we talk about string formatting :))\n"
      ],
      "text/plain": [
       "Solution: As you've seen, `ndigits=-1` rounds to the nearest 10, `ndigits=-2` rounds to the nearest 100 and so on. Where might this be useful? Suppose we're dealing with large numbers:\n",
       "\n",
       "> The area of Finland is 338,424 km²  \n",
       "> The area of Greenland is 2,166,086 km²\n",
       "\n",
       "We probably don't care whether it's really 338,424, or 338,425, or 338,177. All those digits of accuracy are just distracting. We can chop them off by calling `round()` with `ndigits=-3`:\n",
       "\n",
       "> The area of Finland is 338,000 km²  \n",
       "> The area of Greenland is 2,166,000 km²\n",
       "\n",
       "(We'll talk about how we would get the commas later when we talk about string formatting :))"
      ]
     },
     "metadata": {},
     "output_type": "display_data"
    }
   ],
   "source": [
    "# Check your answer (Run this code cell to receive credit!)\n",
    "q2.solution()"
   ]
  },
  {
   "cell_type": "markdown",
   "id": "b43b35da",
   "metadata": {
    "papermill": {
     "duration": 0.00524,
     "end_time": "2024-11-19T15:35:09.961204",
     "exception": false,
     "start_time": "2024-11-19T15:35:09.955964",
     "status": "completed"
    },
    "tags": []
   },
   "source": [
    "# 3.\n",
    "\n",
    "In the previous exercise, the candy-sharing friends Alice, Bob and Carol tried to split candies evenly. For the sake of their friendship, any candies left over would be smashed. For example, if they collectively bring home 91 candies, they'll take 30 each and smash 1.\n",
    "\n",
    "Below is a simple function that will calculate the number of candies to smash for *any* number of total candies.\n",
    "\n",
    "Modify it so that it optionally takes a second argument representing the number of friends the candies are being split between. If no second argument is provided, it should assume 3 friends, as before.\n",
    "\n",
    "Update the docstring to reflect this new behaviour."
   ]
  },
  {
   "cell_type": "code",
   "execution_count": 8,
   "id": "f0ef292a",
   "metadata": {
    "execution": {
     "iopub.execute_input": "2024-11-19T15:35:09.973496Z",
     "iopub.status.busy": "2024-11-19T15:35:09.973039Z",
     "iopub.status.idle": "2024-11-19T15:35:09.984842Z",
     "shell.execute_reply": "2024-11-19T15:35:09.983589Z"
    },
    "papermill": {
     "duration": 0.020452,
     "end_time": "2024-11-19T15:35:09.987074",
     "exception": false,
     "start_time": "2024-11-19T15:35:09.966622",
     "status": "completed"
    },
    "tags": []
   },
   "outputs": [
    {
     "data": {
      "application/javascript": [
       "parent.postMessage({\"jupyterEvent\": \"custom.exercise_interaction\", \"data\": {\"outcomeType\": 1, \"valueTowardsCompletion\": 0.16666666666666666, \"interactionType\": 1, \"questionType\": 2, \"questionId\": \"3_CandySmashingFunctionProblem\", \"learnToolsVersion\": \"0.3.4\", \"failureMessage\": \"\", \"exceptionClass\": \"\", \"trace\": \"\"}}, \"*\")"
      ],
      "text/plain": [
       "<IPython.core.display.Javascript object>"
      ]
     },
     "metadata": {},
     "output_type": "display_data"
    },
    {
     "data": {
      "text/markdown": [
       "<span style=\"color:#33cc33\">Correct</span>"
      ],
      "text/plain": [
       "Correct"
      ]
     },
     "metadata": {},
     "output_type": "display_data"
    },
    {
     "data": {
      "text/plain": [
       "<function __main__.to_smash(total_candies, n_friends=3)>"
      ]
     },
     "execution_count": 8,
     "metadata": {},
     "output_type": "execute_result"
    }
   ],
   "source": [
    "def to_smash(total_candies, n_friends=3):\n",
    "    \"\"\"Return the number of leftover candies that must be smashed after distributing\n",
    "    the given number of candies evenly between 3 friends.\n",
    "    \n",
    "    >>> to_smash(91)\n",
    "    1\n",
    "    \"\"\"\n",
    "    return total_candies % n_friends\n",
    "\n",
    "# Check your answer\n",
    "q3.check()\n",
    "\n",
    "to_smash"
   ]
  },
  {
   "cell_type": "code",
   "execution_count": 9,
   "id": "75ca82e3",
   "metadata": {
    "execution": {
     "iopub.execute_input": "2024-11-19T15:35:10.001647Z",
     "iopub.status.busy": "2024-11-19T15:35:10.000650Z",
     "iopub.status.idle": "2024-11-19T15:35:10.009653Z",
     "shell.execute_reply": "2024-11-19T15:35:10.008590Z"
    },
    "papermill": {
     "duration": 0.018732,
     "end_time": "2024-11-19T15:35:10.011611",
     "exception": false,
     "start_time": "2024-11-19T15:35:09.992879",
     "status": "completed"
    },
    "tags": []
   },
   "outputs": [
    {
     "data": {
      "application/javascript": [
       "parent.postMessage({\"jupyterEvent\": \"custom.exercise_interaction\", \"data\": {\"interactionType\": 2, \"questionType\": 2, \"questionId\": \"3_CandySmashingFunctionProblem\", \"learnToolsVersion\": \"0.3.4\", \"valueTowardsCompletion\": 0.0, \"failureMessage\": \"\", \"exceptionClass\": \"\", \"trace\": \"\", \"outcomeType\": 4}}, \"*\")"
      ],
      "text/plain": [
       "<IPython.core.display.Javascript object>"
      ]
     },
     "metadata": {},
     "output_type": "display_data"
    },
    {
     "data": {
      "text/markdown": [
       "<span style=\"color:#3366cc\">Hint:</span> Refer to the section of the last tutorial notebook where we talked about default arguments"
      ],
      "text/plain": [
       "Hint: Refer to the section of the last tutorial notebook where we talked about default arguments"
      ]
     },
     "metadata": {},
     "output_type": "display_data"
    }
   ],
   "source": [
    "q3.hint()"
   ]
  },
  {
   "cell_type": "code",
   "execution_count": 10,
   "id": "d2421c21",
   "metadata": {
    "execution": {
     "iopub.execute_input": "2024-11-19T15:35:10.025475Z",
     "iopub.status.busy": "2024-11-19T15:35:10.025068Z",
     "iopub.status.idle": "2024-11-19T15:35:10.033270Z",
     "shell.execute_reply": "2024-11-19T15:35:10.032125Z"
    },
    "papermill": {
     "duration": 0.017442,
     "end_time": "2024-11-19T15:35:10.035170",
     "exception": false,
     "start_time": "2024-11-19T15:35:10.017728",
     "status": "completed"
    },
    "tags": []
   },
   "outputs": [
    {
     "data": {
      "application/javascript": [
       "parent.postMessage({\"jupyterEvent\": \"custom.exercise_interaction\", \"data\": {\"interactionType\": 3, \"questionType\": 2, \"questionId\": \"3_CandySmashingFunctionProblem\", \"learnToolsVersion\": \"0.3.4\", \"valueTowardsCompletion\": 0.0, \"failureMessage\": \"\", \"exceptionClass\": \"\", \"trace\": \"\", \"outcomeType\": 4}}, \"*\")"
      ],
      "text/plain": [
       "<IPython.core.display.Javascript object>"
      ]
     },
     "metadata": {},
     "output_type": "display_data"
    },
    {
     "data": {
      "text/markdown": [
       "<span style=\"color:#33cc99\">Solution:</span> \n",
       "```python\n",
       "def to_smash(total_candies, n_friends=3):\n",
       "    return total_candies % n_friends\n",
       "```"
      ],
      "text/plain": [
       "Solution: \n",
       "```python\n",
       "def to_smash(total_candies, n_friends=3):\n",
       "    return total_candies % n_friends\n",
       "```"
      ]
     },
     "metadata": {},
     "output_type": "display_data"
    }
   ],
   "source": [
    "q3.solution()"
   ]
  },
  {
   "cell_type": "markdown",
   "id": "d9592d75",
   "metadata": {
    "papermill": {
     "duration": 0.006128,
     "end_time": "2024-11-19T15:35:10.047330",
     "exception": false,
     "start_time": "2024-11-19T15:35:10.041202",
     "status": "completed"
    },
    "tags": []
   },
   "source": [
    "# 4. (Optional)\n",
    "\n",
    "It may not be fun, but reading and understanding error messages will be an important part of your Python career.\n",
    "\n",
    "Each code cell below contains some commented buggy code. For each cell...\n",
    "\n",
    "1. Read the code and predict what you think will happen when it's run.\n",
    "2. Then uncomment the code and run it to see what happens. (**Tip**: In the kernel editor, you can highlight several lines and press `ctrl`+`/` to toggle commenting.)\n",
    "3. Fix the code (so that it accomplishes its intended purpose without throwing an exception)\n",
    "\n",
    "<!-- TODO: should this be autochecked? Delta is probably pretty small. -->"
   ]
  },
  {
   "cell_type": "code",
   "execution_count": 11,
   "id": "20ec0a09",
   "metadata": {
    "execution": {
     "iopub.execute_input": "2024-11-19T15:35:10.061341Z",
     "iopub.status.busy": "2024-11-19T15:35:10.060940Z",
     "iopub.status.idle": "2024-11-19T15:35:10.067623Z",
     "shell.execute_reply": "2024-11-19T15:35:10.066513Z"
    },
    "papermill": {
     "duration": 0.016413,
     "end_time": "2024-11-19T15:35:10.069845",
     "exception": false,
     "start_time": "2024-11-19T15:35:10.053432",
     "status": "completed"
    },
    "tags": []
   },
   "outputs": [
    {
     "data": {
      "text/plain": [
       "10.0"
      ]
     },
     "execution_count": 11,
     "metadata": {},
     "output_type": "execute_result"
    }
   ],
   "source": [
    "round_to_two_places(9.9999)"
   ]
  },
  {
   "cell_type": "code",
   "execution_count": 12,
   "id": "4e23c3a4",
   "metadata": {
    "execution": {
     "iopub.execute_input": "2024-11-19T15:35:10.084749Z",
     "iopub.status.busy": "2024-11-19T15:35:10.083984Z",
     "iopub.status.idle": "2024-11-19T15:35:10.089111Z",
     "shell.execute_reply": "2024-11-19T15:35:10.088005Z"
    },
    "papermill": {
     "duration": 0.015036,
     "end_time": "2024-11-19T15:35:10.091322",
     "exception": false,
     "start_time": "2024-11-19T15:35:10.076286",
     "status": "completed"
    },
    "tags": []
   },
   "outputs": [],
   "source": [
    "x = -10\n",
    "y = 5\n",
    "# # Which of the two variables above has the smallest absolute value?\n",
    "#smallest_abs = min(abs(x, y))"
   ]
  },
  {
   "cell_type": "code",
   "execution_count": 13,
   "id": "e7945e10",
   "metadata": {
    "execution": {
     "iopub.execute_input": "2024-11-19T15:35:10.105639Z",
     "iopub.status.busy": "2024-11-19T15:35:10.105271Z",
     "iopub.status.idle": "2024-11-19T15:35:10.110748Z",
     "shell.execute_reply": "2024-11-19T15:35:10.109539Z"
    },
    "papermill": {
     "duration": 0.015164,
     "end_time": "2024-11-19T15:35:10.112920",
     "exception": false,
     "start_time": "2024-11-19T15:35:10.097756",
     "status": "completed"
    },
    "tags": []
   },
   "outputs": [],
   "source": [
    "def smallest_abs (a, b):\n",
    "    i1 = abs(a)\n",
    "    i2 = abs(b)\n",
    "    return min(i1, i2)"
   ]
  },
  {
   "cell_type": "code",
   "execution_count": 14,
   "id": "d5bb0ed9",
   "metadata": {
    "execution": {
     "iopub.execute_input": "2024-11-19T15:35:10.127904Z",
     "iopub.status.busy": "2024-11-19T15:35:10.126982Z",
     "iopub.status.idle": "2024-11-19T15:35:10.132674Z",
     "shell.execute_reply": "2024-11-19T15:35:10.131673Z"
    },
    "papermill": {
     "duration": 0.015542,
     "end_time": "2024-11-19T15:35:10.134833",
     "exception": false,
     "start_time": "2024-11-19T15:35:10.119291",
     "status": "completed"
    },
    "tags": []
   },
   "outputs": [
    {
     "name": "stdout",
     "output_type": "stream",
     "text": [
      "5\n"
     ]
    }
   ],
   "source": [
    "def f(x):\n",
    "     y = abs(x)\n",
    "     return y\n",
    "\n",
    "print(f(-5))"
   ]
  },
  {
   "cell_type": "markdown",
   "id": "0b14b4eb",
   "metadata": {
    "papermill": {
     "duration": 0.005962,
     "end_time": "2024-11-19T15:35:10.147245",
     "exception": false,
     "start_time": "2024-11-19T15:35:10.141283",
     "status": "completed"
    },
    "tags": []
   },
   "source": [
    "# Keep Going\n",
    "\n",
    "Nice job with the code. Next up, you'll learn about *conditionals*, which you'll need to **[write interesting programs](https://www.kaggle.com/colinmorris/booleans-and-conditionals)**. "
   ]
  },
  {
   "cell_type": "markdown",
   "id": "42bd4a4f",
   "metadata": {
    "papermill": {
     "duration": 0.005976,
     "end_time": "2024-11-19T15:35:10.159377",
     "exception": false,
     "start_time": "2024-11-19T15:35:10.153401",
     "status": "completed"
    },
    "tags": []
   },
   "source": [
    "---\n",
    "\n",
    "\n",
    "\n",
    "\n",
    "*Have questions or comments? Visit the [course discussion forum](https://www.kaggle.com/learn/python/discussion) to chat with other learners.*"
   ]
  }
 ],
 "metadata": {
  "kaggle": {
   "accelerator": "none",
   "dataSources": [],
   "isGpuEnabled": false,
   "isInternetEnabled": false,
   "language": "python",
   "sourceType": "notebook"
  },
  "kernelspec": {
   "display_name": "Python 3",
   "language": "python",
   "name": "python3"
  },
  "language_info": {
   "codemirror_mode": {
    "name": "ipython",
    "version": 3
   },
   "file_extension": ".py",
   "mimetype": "text/x-python",
   "name": "python",
   "nbconvert_exporter": "python",
   "pygments_lexer": "ipython3",
   "version": "3.10.14"
  },
  "learntools_metadata": {
   "lesson_index": 1,
   "type": "exercise"
  },
  "papermill": {
   "default_parameters": {},
   "duration": 5.065815,
   "end_time": "2024-11-19T15:35:10.687804",
   "environment_variables": {},
   "exception": null,
   "input_path": "__notebook__.ipynb",
   "output_path": "__notebook__.ipynb",
   "parameters": {},
   "start_time": "2024-11-19T15:35:05.621989",
   "version": "2.6.0"
  }
 },
 "nbformat": 4,
 "nbformat_minor": 5
}
