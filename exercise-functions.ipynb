{
 "cells": [
  {
   "cell_type": "markdown",
   "id": "f0aa25b4",
   "metadata": {
    "papermill": {
     "duration": 0.006981,
     "end_time": "2024-11-25T17:48:35.967731",
     "exception": false,
     "start_time": "2024-11-25T17:48:35.960750",
     "status": "completed"
    },
    "tags": []
   },
   "source": [
    "**This notebook is an exercise in the [Intro to Programming](https://www.kaggle.com/learn/intro-to-programming) course.  You can reference the tutorial at [this link](https://www.kaggle.com/alexisbcook/functions).**\n",
    "\n",
    "---\n"
   ]
  },
  {
   "cell_type": "markdown",
   "id": "aef25c0e",
   "metadata": {
    "papermill": {
     "duration": 0.005647,
     "end_time": "2024-11-25T17:48:35.979356",
     "exception": false,
     "start_time": "2024-11-25T17:48:35.973709",
     "status": "completed"
    },
    "tags": []
   },
   "source": [
    "In the tutorial, you learned about functions. In this exercise, you'll write some of your own!\n",
    "\n",
    "# Set up the notebook\n",
    "\n",
    "Run the next code cell without changes to set up the notebook."
   ]
  },
  {
   "cell_type": "code",
   "execution_count": 1,
   "id": "66e21c09",
   "metadata": {
    "execution": {
     "iopub.execute_input": "2024-11-25T17:48:35.993163Z",
     "iopub.status.busy": "2024-11-25T17:48:35.992711Z",
     "iopub.status.idle": "2024-11-25T17:48:36.988215Z",
     "shell.execute_reply": "2024-11-25T17:48:36.986768Z"
    },
    "papermill": {
     "duration": 1.005795,
     "end_time": "2024-11-25T17:48:36.990869",
     "exception": false,
     "start_time": "2024-11-25T17:48:35.985074",
     "status": "completed"
    },
    "tags": []
   },
   "outputs": [
    {
     "name": "stdout",
     "output_type": "stream",
     "text": [
      "Setup complete.\n"
     ]
    }
   ],
   "source": [
    "# Set up the exercise\n",
    "import math\n",
    "from learntools.core import binder\n",
    "binder.bind(globals())\n",
    "from learntools.intro_to_programming.ex2 import *\n",
    "print('Setup complete.')"
   ]
  },
  {
   "cell_type": "code",
   "execution_count": 2,
   "id": "b29c0f6a",
   "metadata": {
    "execution": {
     "iopub.execute_input": "2024-11-25T17:48:37.004561Z",
     "iopub.status.busy": "2024-11-25T17:48:37.004092Z",
     "iopub.status.idle": "2024-11-25T17:48:37.009752Z",
     "shell.execute_reply": "2024-11-25T17:48:37.008644Z"
    },
    "papermill": {
     "duration": 0.015765,
     "end_time": "2024-11-25T17:48:37.012509",
     "exception": false,
     "start_time": "2024-11-25T17:48:36.996744",
     "status": "completed"
    },
    "tags": []
   },
   "outputs": [
    {
     "name": "stdout",
     "output_type": "stream",
     "text": [
      "Setup complete.\n"
     ]
    }
   ],
   "source": [
    "# Set up the exercise\n",
    "import math\n",
    "from learntools.core import binder\n",
    "binder.bind(globals())\n",
    "from learntools.intro_to_programming.ex2 import *\n",
    "print('Setup complete.')"
   ]
  },
  {
   "cell_type": "markdown",
   "id": "666e6040",
   "metadata": {
    "papermill": {
     "duration": 0.005312,
     "end_time": "2024-11-25T17:48:37.023339",
     "exception": false,
     "start_time": "2024-11-25T17:48:37.018027",
     "status": "completed"
    },
    "tags": []
   },
   "source": [
    "# Question 1\n",
    "\n",
    "In the [House Prices - Advanced Regression Techniques competition](https://www.kaggle.com/c/house-prices-advanced-regression-techniques/overview), you need to use information like the number of bedrooms and bathrooms to predict the price of a house.  Inspired by this competition, you'll write your own function to do this.\n",
    "\n",
    "In the next code cell, create a function `get_expected_cost()` that has two arguments:\n",
    "- `beds` - number of bedrooms \n",
    "- `baths` - number of bathrooms\n",
    "\n",
    "It should return the expected cost of a house with that number of bedrooms and bathrooms.  Assume that:\n",
    "- the expected cost for a house with 0 bedrooms and 0 bathrooms is `80000`.  \n",
    "- each bedroom adds `30000` to the expected cost\n",
    "- each bathroom adds `10000` to the expected cost.\n",
    "\n",
    "For instance, \n",
    "- a house with 1 bedroom and 1 bathroom has an expected cost of `120000`, and \n",
    "- a house with 2 bedrooms and 1 bathroom has an expected cost of `150000`."
   ]
  },
  {
   "cell_type": "code",
   "execution_count": 3,
   "id": "b1deeab8",
   "metadata": {
    "execution": {
     "iopub.execute_input": "2024-11-25T17:48:37.037701Z",
     "iopub.status.busy": "2024-11-25T17:48:37.037345Z",
     "iopub.status.idle": "2024-11-25T17:48:37.047630Z",
     "shell.execute_reply": "2024-11-25T17:48:37.046518Z"
    },
    "papermill": {
     "duration": 0.019504,
     "end_time": "2024-11-25T17:48:37.049880",
     "exception": false,
     "start_time": "2024-11-25T17:48:37.030376",
     "status": "completed"
    },
    "tags": []
   },
   "outputs": [
    {
     "data": {
      "application/javascript": [
       "parent.postMessage({\"jupyterEvent\": \"custom.exercise_interaction\", \"data\": {\"outcomeType\": 1, \"valueTowardsCompletion\": 0.2, \"interactionType\": 1, \"questionType\": 2, \"questionId\": \"1_GetExpectedCost\", \"learnToolsVersion\": \"0.3.4\", \"failureMessage\": \"\", \"exceptionClass\": \"\", \"trace\": \"\"}}, \"*\")"
      ],
      "text/plain": [
       "<IPython.core.display.Javascript object>"
      ]
     },
     "metadata": {},
     "output_type": "display_data"
    },
    {
     "data": {
      "text/markdown": [
       "<span style=\"color:#33cc33\">Correct</span>"
      ],
      "text/plain": [
       "Correct"
      ]
     },
     "metadata": {},
     "output_type": "display_data"
    }
   ],
   "source": [
    "# TODO: Complete the function\n",
    "def get_expected_cost(beds, baths):\n",
    "    value = (80000) + (30000 * beds) + (10000 * baths)\n",
    "    return value\n",
    "\n",
    "# Check your answer \n",
    "q1.check()"
   ]
  },
  {
   "cell_type": "code",
   "execution_count": 4,
   "id": "0a80abc8",
   "metadata": {
    "execution": {
     "iopub.execute_input": "2024-11-25T17:48:37.063430Z",
     "iopub.status.busy": "2024-11-25T17:48:37.063068Z",
     "iopub.status.idle": "2024-11-25T17:48:37.072491Z",
     "shell.execute_reply": "2024-11-25T17:48:37.071333Z"
    },
    "papermill": {
     "duration": 0.018809,
     "end_time": "2024-11-25T17:48:37.074866",
     "exception": false,
     "start_time": "2024-11-25T17:48:37.056057",
     "status": "completed"
    },
    "tags": []
   },
   "outputs": [
    {
     "data": {
      "application/javascript": [
       "parent.postMessage({\"jupyterEvent\": \"custom.exercise_interaction\", \"data\": {\"interactionType\": 2, \"questionType\": 2, \"questionId\": \"1_GetExpectedCost\", \"learnToolsVersion\": \"0.3.4\", \"valueTowardsCompletion\": 0.0, \"failureMessage\": \"\", \"exceptionClass\": \"\", \"trace\": \"\", \"outcomeType\": 4}}, \"*\")"
      ],
      "text/plain": [
       "<IPython.core.display.Javascript object>"
      ]
     },
     "metadata": {},
     "output_type": "display_data"
    },
    {
     "data": {
      "text/markdown": [
       "<span style=\"color:#3366cc\">Hint:</span> The value should be the base cost (`80000`), plus the total cost of the bedrooms (`30000 * beds`), plus the total cost of the bathrooms (`10000 * baths`)."
      ],
      "text/plain": [
       "Hint: The value should be the base cost (`80000`), plus the total cost of the bedrooms (`30000 * beds`), plus the total cost of the bathrooms (`10000 * baths`)."
      ]
     },
     "metadata": {},
     "output_type": "display_data"
    }
   ],
   "source": [
    "# Uncomment to see a hint\n",
    "q1.hint()\n",
    "\n",
    "# Uncomment to view the solution\n",
    "#q1.solution()"
   ]
  },
  {
   "cell_type": "markdown",
   "id": "7465fe58",
   "metadata": {
    "papermill": {
     "duration": 0.005592,
     "end_time": "2024-11-25T17:48:37.086687",
     "exception": false,
     "start_time": "2024-11-25T17:48:37.081095",
     "status": "completed"
    },
    "tags": []
   },
   "source": [
    "# Question 2\n",
    "\n",
    "You are thinking about buying a home and want to get an idea of how much you will spend, based on the number of bedrooms and bathrooms.  You are trying to decide between four different options:\n",
    "- Option 1: house with two bedrooms and three bathrooms\n",
    "- Option 2: house with three bedrooms and two bathrooms\n",
    "- Option 3: house with three bedrooms and three bathrooms\n",
    "- Option 4: house with three bedrooms and four bathrooms\n",
    "\n",
    "Use the `get_expected_cost()` function you defined in question 1 to set `option_1`, `option_2`, `option_3`, and `option_4` to the expected cost of each option."
   ]
  },
  {
   "cell_type": "code",
   "execution_count": 5,
   "id": "e7b1f443",
   "metadata": {
    "execution": {
     "iopub.execute_input": "2024-11-25T17:48:37.100974Z",
     "iopub.status.busy": "2024-11-25T17:48:37.100475Z",
     "iopub.status.idle": "2024-11-25T17:48:37.112155Z",
     "shell.execute_reply": "2024-11-25T17:48:37.110792Z"
    },
    "papermill": {
     "duration": 0.022239,
     "end_time": "2024-11-25T17:48:37.114880",
     "exception": false,
     "start_time": "2024-11-25T17:48:37.092641",
     "status": "completed"
    },
    "tags": []
   },
   "outputs": [
    {
     "name": "stdout",
     "output_type": "stream",
     "text": [
      "170000\n",
      "190000\n",
      "200000\n",
      "210000\n"
     ]
    },
    {
     "data": {
      "application/javascript": [
       "parent.postMessage({\"jupyterEvent\": \"custom.exercise_interaction\", \"data\": {\"outcomeType\": 1, \"valueTowardsCompletion\": 0.2, \"interactionType\": 1, \"questionType\": 1, \"questionId\": \"2_RunGetExpectedCost\", \"learnToolsVersion\": \"0.3.4\", \"failureMessage\": \"\", \"exceptionClass\": \"\", \"trace\": \"\"}}, \"*\")"
      ],
      "text/plain": [
       "<IPython.core.display.Javascript object>"
      ]
     },
     "metadata": {},
     "output_type": "display_data"
    },
    {
     "data": {
      "text/markdown": [
       "<span style=\"color:#33cc33\">Correct</span>"
      ],
      "text/plain": [
       "Correct"
      ]
     },
     "metadata": {},
     "output_type": "display_data"
    }
   ],
   "source": [
    "# TODO: Use the get_expected_cost function to fill in each value\n",
    "option_one = get_expected_cost(beds = 2, baths = 3)\n",
    "option_two = get_expected_cost(beds = 3, baths = 2)\n",
    "option_three = get_expected_cost(beds = 3, baths = 3)\n",
    "option_four = get_expected_cost(beds = 3, baths = 4)\n",
    "\n",
    "print(option_one)\n",
    "print(option_two)\n",
    "print(option_three)\n",
    "print(option_four)\n",
    "\n",
    "# Check your answer\n",
    "q2.check()"
   ]
  },
  {
   "cell_type": "code",
   "execution_count": 6,
   "id": "7055f78c",
   "metadata": {
    "execution": {
     "iopub.execute_input": "2024-11-25T17:48:37.129302Z",
     "iopub.status.busy": "2024-11-25T17:48:37.128896Z",
     "iopub.status.idle": "2024-11-25T17:48:37.134069Z",
     "shell.execute_reply": "2024-11-25T17:48:37.132762Z"
    },
    "papermill": {
     "duration": 0.01502,
     "end_time": "2024-11-25T17:48:37.136358",
     "exception": false,
     "start_time": "2024-11-25T17:48:37.121338",
     "status": "completed"
    },
    "tags": []
   },
   "outputs": [],
   "source": [
    "# Uncomment to see a hint\n",
    "#q2.hint()\n",
    "\n",
    "# Uncomment to view the solution\n",
    "#q2.solution()"
   ]
  },
  {
   "cell_type": "markdown",
   "id": "c1164e80",
   "metadata": {
    "papermill": {
     "duration": 0.006711,
     "end_time": "2024-11-25T17:48:37.149366",
     "exception": false,
     "start_time": "2024-11-25T17:48:37.142655",
     "status": "completed"
    },
    "tags": []
   },
   "source": [
    "# Question 3\n",
    "\n",
    "You're a home decorator, and you'd like to use Python to streamline some of your work.  Specifically, you're creating a tool that you intend to use to calculate the cost of painting a room.\n",
    "\n",
    "As a first step, define a function `get_cost()` that takes as input:\n",
    "- `sqft_walls` = total square feet of walls to be painted\n",
    "- `sqft_ceiling` = square feet of ceiling to be painted\n",
    "- `sqft_per_gallon` = number of square feet that you can cover with one gallon of paint\n",
    "- `cost_per_gallon` = cost (in dollars) of one gallon of paint\n",
    "\n",
    "It should return the cost (in dollars) of putting one coat of paint on all walls and the ceiling.  Assume you can buy the exact amount of paint that you need, so you can buy partial gallons (e.g., if you need 7.523 gallons, you can buy that exact amount, instead of needing to buy 8 gallons and waste some paint).  Do not round your answer."
   ]
  },
  {
   "cell_type": "code",
   "execution_count": 7,
   "id": "9cbc6e9d",
   "metadata": {
    "execution": {
     "iopub.execute_input": "2024-11-25T17:48:37.164967Z",
     "iopub.status.busy": "2024-11-25T17:48:37.164502Z",
     "iopub.status.idle": "2024-11-25T17:48:37.174701Z",
     "shell.execute_reply": "2024-11-25T17:48:37.173596Z"
    },
    "papermill": {
     "duration": 0.019943,
     "end_time": "2024-11-25T17:48:37.176996",
     "exception": false,
     "start_time": "2024-11-25T17:48:37.157053",
     "status": "completed"
    },
    "tags": []
   },
   "outputs": [
    {
     "data": {
      "application/javascript": [
       "parent.postMessage({\"jupyterEvent\": \"custom.exercise_interaction\", \"data\": {\"outcomeType\": 1, \"valueTowardsCompletion\": 0.2, \"interactionType\": 1, \"questionType\": 2, \"questionId\": \"3_GetCostPaint\", \"learnToolsVersion\": \"0.3.4\", \"failureMessage\": \"\", \"exceptionClass\": \"\", \"trace\": \"\"}}, \"*\")"
      ],
      "text/plain": [
       "<IPython.core.display.Javascript object>"
      ]
     },
     "metadata": {},
     "output_type": "display_data"
    },
    {
     "data": {
      "text/markdown": [
       "<span style=\"color:#33cc33\">Correct</span>"
      ],
      "text/plain": [
       "Correct"
      ]
     },
     "metadata": {},
     "output_type": "display_data"
    },
    {
     "name": "stdout",
     "output_type": "stream",
     "text": [
      "<function get_cost at 0x7bdae4838280>\n"
     ]
    }
   ],
   "source": [
    "# TODO: Finish defining the function\n",
    "def get_cost(sqft_walls, sqft_ceiling, sqft_per_gallon, cost_per_gallon):\n",
    "    total_sqft = sqft_walls + sqft_ceiling\n",
    "    gallons_needed = total_sqft / sqft_per_gallon\n",
    "    cost = cost_per_gallon * gallons_needed\n",
    "    return cost\n",
    "\n",
    "# Check your answer\n",
    "q3.check()\n",
    "\n",
    "print(get_cost)"
   ]
  },
  {
   "cell_type": "code",
   "execution_count": 8,
   "id": "f6edb5a7",
   "metadata": {
    "execution": {
     "iopub.execute_input": "2024-11-25T17:48:37.192087Z",
     "iopub.status.busy": "2024-11-25T17:48:37.191644Z",
     "iopub.status.idle": "2024-11-25T17:48:37.204196Z",
     "shell.execute_reply": "2024-11-25T17:48:37.203091Z"
    },
    "papermill": {
     "duration": 0.022625,
     "end_time": "2024-11-25T17:48:37.206388",
     "exception": false,
     "start_time": "2024-11-25T17:48:37.183763",
     "status": "completed"
    },
    "tags": []
   },
   "outputs": [
    {
     "data": {
      "application/javascript": [
       "parent.postMessage({\"jupyterEvent\": \"custom.exercise_interaction\", \"data\": {\"interactionType\": 2, \"questionType\": 2, \"questionId\": \"3_GetCostPaint\", \"learnToolsVersion\": \"0.3.4\", \"valueTowardsCompletion\": 0.0, \"failureMessage\": \"\", \"exceptionClass\": \"\", \"trace\": \"\", \"outcomeType\": 4}}, \"*\")"
      ],
      "text/plain": [
       "<IPython.core.display.Javascript object>"
      ]
     },
     "metadata": {},
     "output_type": "display_data"
    },
    {
     "data": {
      "text/markdown": [
       "<span style=\"color:#3366cc\">Hint:</span> Begin by calculating the total number of square feet that need to be painted. Then, based on that, figure out how many gallons you need.  Then, once you know how many gallons you need, you can calculate the total cost of the project."
      ],
      "text/plain": [
       "Hint: Begin by calculating the total number of square feet that need to be painted. Then, based on that, figure out how many gallons you need.  Then, once you know how many gallons you need, you can calculate the total cost of the project."
      ]
     },
     "metadata": {},
     "output_type": "display_data"
    },
    {
     "data": {
      "application/javascript": [
       "parent.postMessage({\"jupyterEvent\": \"custom.exercise_interaction\", \"data\": {\"interactionType\": 3, \"questionType\": 2, \"questionId\": \"3_GetCostPaint\", \"learnToolsVersion\": \"0.3.4\", \"valueTowardsCompletion\": 0.0, \"failureMessage\": \"\", \"exceptionClass\": \"\", \"trace\": \"\", \"outcomeType\": 4}}, \"*\")"
      ],
      "text/plain": [
       "<IPython.core.display.Javascript object>"
      ]
     },
     "metadata": {},
     "output_type": "display_data"
    },
    {
     "data": {
      "text/markdown": [
       "<span style=\"color:#33cc99\">Solution:</span> \n",
       "```python\n",
       "\n",
       "def get_cost(sqft_walls, sqft_ceiling, sqft_per_gallon, cost_per_gallon):\n",
       "    total_sqft = sqft_walls + sqft_ceiling\n",
       "    gallons_needed = total_sqft / sqft_per_gallon\n",
       "    cost = cost_per_gallon * gallons_needed\n",
       "    return cost\n",
       "\n",
       "```"
      ],
      "text/plain": [
       "Solution: \n",
       "```python\n",
       "\n",
       "def get_cost(sqft_walls, sqft_ceiling, sqft_per_gallon, cost_per_gallon):\n",
       "    total_sqft = sqft_walls + sqft_ceiling\n",
       "    gallons_needed = total_sqft / sqft_per_gallon\n",
       "    cost = cost_per_gallon * gallons_needed\n",
       "    return cost\n",
       "\n",
       "```"
      ]
     },
     "metadata": {},
     "output_type": "display_data"
    }
   ],
   "source": [
    "# Uncomment to see a hint\n",
    "q3.hint()\n",
    "\n",
    "# Uncomment to view the solution\n",
    "q3.solution()"
   ]
  },
  {
   "cell_type": "markdown",
   "id": "f58ffa91",
   "metadata": {
    "papermill": {
     "duration": 0.007302,
     "end_time": "2024-11-25T17:48:37.222172",
     "exception": false,
     "start_time": "2024-11-25T17:48:37.214870",
     "status": "completed"
    },
    "tags": []
   },
   "source": [
    "# Question 4\n",
    "\n",
    "Use the `get_cost()` function you defined in Question 3 to calculate the cost of applying one coat of paint to a room with:\n",
    "- 432 square feet of walls, and\n",
    "- 144 square feet of ceiling.\n",
    "\n",
    "Assume that one gallon of paint covers 400 square feet and costs $15.  As in Question 3, assume you can buy partial gallons of paint.  Do not round your answer."
   ]
  },
  {
   "cell_type": "code",
   "execution_count": 9,
   "id": "87c1f04f",
   "metadata": {
    "execution": {
     "iopub.execute_input": "2024-11-25T17:48:37.238058Z",
     "iopub.status.busy": "2024-11-25T17:48:37.237530Z",
     "iopub.status.idle": "2024-11-25T17:48:37.247477Z",
     "shell.execute_reply": "2024-11-25T17:48:37.246323Z"
    },
    "papermill": {
     "duration": 0.020386,
     "end_time": "2024-11-25T17:48:37.249570",
     "exception": false,
     "start_time": "2024-11-25T17:48:37.229184",
     "status": "completed"
    },
    "tags": []
   },
   "outputs": [
    {
     "data": {
      "application/javascript": [
       "parent.postMessage({\"jupyterEvent\": \"custom.exercise_interaction\", \"data\": {\"outcomeType\": 1, \"valueTowardsCompletion\": 0.2, \"interactionType\": 1, \"questionType\": 1, \"questionId\": \"4_GetCostPaintExample\", \"learnToolsVersion\": \"0.3.4\", \"failureMessage\": \"\", \"exceptionClass\": \"\", \"trace\": \"\"}}, \"*\")"
      ],
      "text/plain": [
       "<IPython.core.display.Javascript object>"
      ]
     },
     "metadata": {},
     "output_type": "display_data"
    },
    {
     "data": {
      "text/markdown": [
       "<span style=\"color:#33cc33\">Correct</span>"
      ],
      "text/plain": [
       "Correct"
      ]
     },
     "metadata": {},
     "output_type": "display_data"
    },
    {
     "name": "stdout",
     "output_type": "stream",
     "text": [
      "21.599999999999998\n"
     ]
    }
   ],
   "source": [
    "# TODO: Set the project_cost variable to the cost of the project\n",
    "project_cost = get_cost(432, 144, 400, 15)\n",
    "\n",
    "# Check your answer\n",
    "q4.check()\n",
    "\n",
    "print(project_cost)"
   ]
  },
  {
   "cell_type": "code",
   "execution_count": 10,
   "id": "d512fd50",
   "metadata": {
    "execution": {
     "iopub.execute_input": "2024-11-25T17:48:37.265865Z",
     "iopub.status.busy": "2024-11-25T17:48:37.265442Z",
     "iopub.status.idle": "2024-11-25T17:48:37.279006Z",
     "shell.execute_reply": "2024-11-25T17:48:37.277885Z"
    },
    "papermill": {
     "duration": 0.0242,
     "end_time": "2024-11-25T17:48:37.281310",
     "exception": false,
     "start_time": "2024-11-25T17:48:37.257110",
     "status": "completed"
    },
    "tags": []
   },
   "outputs": [
    {
     "data": {
      "application/javascript": [
       "parent.postMessage({\"jupyterEvent\": \"custom.exercise_interaction\", \"data\": {\"interactionType\": 2, \"questionType\": 1, \"questionId\": \"4_GetCostPaintExample\", \"learnToolsVersion\": \"0.3.4\", \"valueTowardsCompletion\": 0.0, \"failureMessage\": \"\", \"exceptionClass\": \"\", \"trace\": \"\", \"outcomeType\": 4}}, \"*\")"
      ],
      "text/plain": [
       "<IPython.core.display.Javascript object>"
      ]
     },
     "metadata": {},
     "output_type": "display_data"
    },
    {
     "data": {
      "text/markdown": [
       "<span style=\"color:#3366cc\">Hint:</span> If we needed to instead calculate the cost of applying one coat of paint to a room with 800 square feet of walls and 160 square feet of ceiling, and one gallon of paint covered 300 square feet and cost $10, we would set `project_cost = get_cost(800, 160, 300, 10)`."
      ],
      "text/plain": [
       "Hint: If we needed to instead calculate the cost of applying one coat of paint to a room with 800 square feet of walls and 160 square feet of ceiling, and one gallon of paint covered 300 square feet and cost $10, we would set `project_cost = get_cost(800, 160, 300, 10)`."
      ]
     },
     "metadata": {},
     "output_type": "display_data"
    },
    {
     "data": {
      "application/javascript": [
       "parent.postMessage({\"jupyterEvent\": \"custom.exercise_interaction\", \"data\": {\"interactionType\": 3, \"questionType\": 1, \"questionId\": \"4_GetCostPaintExample\", \"learnToolsVersion\": \"0.3.4\", \"valueTowardsCompletion\": 0.0, \"failureMessage\": \"\", \"exceptionClass\": \"\", \"trace\": \"\", \"outcomeType\": 4}}, \"*\")"
      ],
      "text/plain": [
       "<IPython.core.display.Javascript object>"
      ]
     },
     "metadata": {},
     "output_type": "display_data"
    },
    {
     "data": {
      "text/markdown": [
       "<span style=\"color:#33cc99\">Solution:</span> \n",
       "```python\n",
       "# Set the project_cost variable to the cost of the project\n",
       "project_cost = get_cost(432, 144, 400, 15) \n",
       "\n",
       "```"
      ],
      "text/plain": [
       "Solution: \n",
       "```python\n",
       "# Set the project_cost variable to the cost of the project\n",
       "project_cost = get_cost(432, 144, 400, 15) \n",
       "\n",
       "```"
      ]
     },
     "metadata": {},
     "output_type": "display_data"
    }
   ],
   "source": [
    "# Uncomment to see a hint\n",
    "q4.hint()\n",
    "\n",
    "# Uncomment to view the solution\n",
    "q4.solution()"
   ]
  },
  {
   "cell_type": "markdown",
   "id": "665a0659",
   "metadata": {
    "papermill": {
     "duration": 0.007431,
     "end_time": "2024-11-25T17:48:37.296545",
     "exception": false,
     "start_time": "2024-11-25T17:48:37.289114",
     "status": "completed"
    },
    "tags": []
   },
   "source": [
    "# 🌶️ Question 5\n",
    "\n",
    "Now say you can no longer buy fractions of a gallon.  (For instance, if you need 4.3 gallons to do a project, then you have to buy 5 gallons of paint.)\n",
    "\n",
    "With this new scenario, you will create a new function `get_actual_cost` that uses the same inputs and calculates the cost of your project.\n",
    "\n",
    "One function that you'll need to use to do this is `math.ceil()`.  We demonstrate usage of this function in the code cell below.  It takes as a number as input and rounds the number up to the nearest integer.  \n",
    "\n",
    "Run the next code cell to test this function for yourself.  Feel free to change the value of `test_value` and make sure `math.ceil()` returns the number you expect."
   ]
  },
  {
   "cell_type": "code",
   "execution_count": 11,
   "id": "491b4e1e",
   "metadata": {
    "execution": {
     "iopub.execute_input": "2024-11-25T17:48:37.313983Z",
     "iopub.status.busy": "2024-11-25T17:48:37.313515Z",
     "iopub.status.idle": "2024-11-25T17:48:37.319492Z",
     "shell.execute_reply": "2024-11-25T17:48:37.318113Z"
    },
    "papermill": {
     "duration": 0.017657,
     "end_time": "2024-11-25T17:48:37.321979",
     "exception": false,
     "start_time": "2024-11-25T17:48:37.304322",
     "status": "completed"
    },
    "tags": []
   },
   "outputs": [
    {
     "name": "stdout",
     "output_type": "stream",
     "text": [
      "3\n"
     ]
    }
   ],
   "source": [
    "test_value = 2.17\n",
    "\n",
    "rounded_value = math.ceil(test_value)\n",
    "print(rounded_value)"
   ]
  },
  {
   "cell_type": "code",
   "execution_count": 12,
   "id": "2b40fd0e",
   "metadata": {
    "execution": {
     "iopub.execute_input": "2024-11-25T17:48:37.340111Z",
     "iopub.status.busy": "2024-11-25T17:48:37.339511Z",
     "iopub.status.idle": "2024-11-25T17:48:37.345640Z",
     "shell.execute_reply": "2024-11-25T17:48:37.344603Z"
    },
    "papermill": {
     "duration": 0.017574,
     "end_time": "2024-11-25T17:48:37.347896",
     "exception": false,
     "start_time": "2024-11-25T17:48:37.330322",
     "status": "completed"
    },
    "tags": []
   },
   "outputs": [
    {
     "name": "stdout",
     "output_type": "stream",
     "text": [
      "7\n"
     ]
    }
   ],
   "source": [
    "test_value = 6.50\n",
    "\n",
    "rounded_value = math.ceil(test_value)\n",
    "print(rounded_value)"
   ]
  },
  {
   "cell_type": "markdown",
   "id": "432aa7b3",
   "metadata": {
    "papermill": {
     "duration": 0.007413,
     "end_time": "2024-11-25T17:48:37.363109",
     "exception": false,
     "start_time": "2024-11-25T17:48:37.355696",
     "status": "completed"
    },
    "tags": []
   },
   "source": [
    "Use the next code cell to define the function `get_actual_cost()`.  You'll need to use the `math.ceil()` function to do this.\n",
    "\n",
    "When answering this question, note that it's completely valid to define a function that makes use of another function.  For instance, we can define a function `round_up_and_divide_by_three` that makes use of the `math.ceil` function:\n",
    "```\n",
    "def round_up_and_divide_by_three(num):\n",
    "    new_value = math.ceil(num)\n",
    "    final_value = new_value / 3\n",
    "    return final_value\n",
    "```"
   ]
  },
  {
   "cell_type": "code",
   "execution_count": 13,
   "id": "8fc7ce29",
   "metadata": {
    "execution": {
     "iopub.execute_input": "2024-11-25T17:48:37.380684Z",
     "iopub.status.busy": "2024-11-25T17:48:37.379805Z",
     "iopub.status.idle": "2024-11-25T17:48:37.390123Z",
     "shell.execute_reply": "2024-11-25T17:48:37.389071Z"
    },
    "papermill": {
     "duration": 0.02171,
     "end_time": "2024-11-25T17:48:37.392416",
     "exception": false,
     "start_time": "2024-11-25T17:48:37.370706",
     "status": "completed"
    },
    "tags": []
   },
   "outputs": [
    {
     "data": {
      "application/javascript": [
       "parent.postMessage({\"jupyterEvent\": \"custom.exercise_interaction\", \"data\": {\"outcomeType\": 1, \"valueTowardsCompletion\": 0.2, \"interactionType\": 1, \"questionType\": 2, \"questionId\": \"5_NoMoreFractions\", \"learnToolsVersion\": \"0.3.4\", \"failureMessage\": \"\", \"exceptionClass\": \"\", \"trace\": \"\"}}, \"*\")"
      ],
      "text/plain": [
       "<IPython.core.display.Javascript object>"
      ]
     },
     "metadata": {},
     "output_type": "display_data"
    },
    {
     "data": {
      "text/markdown": [
       "<span style=\"color:#33cc33\">Correct</span>"
      ],
      "text/plain": [
       "Correct"
      ]
     },
     "metadata": {},
     "output_type": "display_data"
    },
    {
     "name": "stdout",
     "output_type": "stream",
     "text": [
      "<function get_actual_cost at 0x7bdae48388b0>\n"
     ]
    }
   ],
   "source": [
    "def get_actual_cost(sqft_walls, sqft_ceiling, sqft_per_gallon, cost_per_gallon):\n",
    "    total_sqft = sqft_walls + sqft_ceiling\n",
    "    gallons_needed = total_sqft / sqft_per_gallon\n",
    "    gallons_to_buy = math.ceil(gallons_needed)\n",
    "    cost = cost_per_gallon * gallons_to_buy\n",
    "    return cost\n",
    "\n",
    "# Check your answer\n",
    "q5.check()\n",
    "\n",
    "print(get_actual_cost)"
   ]
  },
  {
   "cell_type": "code",
   "execution_count": 14,
   "id": "d5d25f02",
   "metadata": {
    "execution": {
     "iopub.execute_input": "2024-11-25T17:48:37.411895Z",
     "iopub.status.busy": "2024-11-25T17:48:37.410682Z",
     "iopub.status.idle": "2024-11-25T17:48:37.423303Z",
     "shell.execute_reply": "2024-11-25T17:48:37.422059Z"
    },
    "papermill": {
     "duration": 0.0242,
     "end_time": "2024-11-25T17:48:37.425531",
     "exception": false,
     "start_time": "2024-11-25T17:48:37.401331",
     "status": "completed"
    },
    "tags": []
   },
   "outputs": [
    {
     "data": {
      "application/javascript": [
       "parent.postMessage({\"jupyterEvent\": \"custom.exercise_interaction\", \"data\": {\"interactionType\": 2, \"questionType\": 2, \"questionId\": \"5_NoMoreFractions\", \"learnToolsVersion\": \"0.3.4\", \"valueTowardsCompletion\": 0.0, \"failureMessage\": \"\", \"exceptionClass\": \"\", \"trace\": \"\", \"outcomeType\": 4}}, \"*\")"
      ],
      "text/plain": [
       "<IPython.core.display.Javascript object>"
      ]
     },
     "metadata": {},
     "output_type": "display_data"
    },
    {
     "data": {
      "text/markdown": [
       "<span style=\"color:#3366cc\">Hint:</span> Begin with the `get_cost()` function as a starting point.  The only change you need to make is to add `math.ceil()` to round up the number of gallons that need to be purchased. Can you figure out where to add it to the function?"
      ],
      "text/plain": [
       "Hint: Begin with the `get_cost()` function as a starting point.  The only change you need to make is to add `math.ceil()` to round up the number of gallons that need to be purchased. Can you figure out where to add it to the function?"
      ]
     },
     "metadata": {},
     "output_type": "display_data"
    },
    {
     "data": {
      "application/javascript": [
       "parent.postMessage({\"jupyterEvent\": \"custom.exercise_interaction\", \"data\": {\"interactionType\": 3, \"questionType\": 2, \"questionId\": \"5_NoMoreFractions\", \"learnToolsVersion\": \"0.3.4\", \"valueTowardsCompletion\": 0.0, \"failureMessage\": \"\", \"exceptionClass\": \"\", \"trace\": \"\", \"outcomeType\": 4}}, \"*\")"
      ],
      "text/plain": [
       "<IPython.core.display.Javascript object>"
      ]
     },
     "metadata": {},
     "output_type": "display_data"
    },
    {
     "data": {
      "text/markdown": [
       "<span style=\"color:#33cc99\">Solution:</span> \n",
       "```python\n",
       "def get_actual_cost(sqft_walls, sqft_ceiling, sqft_per_gallon, cost_per_gallon):\n",
       "    total_sqft = sqft_walls + sqft_ceiling\n",
       "    gallons_needed = total_sqft / sqft_per_gallon\n",
       "    gallons_to_buy = math.ceil(gallons_needed)\n",
       "    cost = cost_per_gallon * gallons_to_buy\n",
       "    return cost\n",
       "\n",
       "```"
      ],
      "text/plain": [
       "Solution: \n",
       "```python\n",
       "def get_actual_cost(sqft_walls, sqft_ceiling, sqft_per_gallon, cost_per_gallon):\n",
       "    total_sqft = sqft_walls + sqft_ceiling\n",
       "    gallons_needed = total_sqft / sqft_per_gallon\n",
       "    gallons_to_buy = math.ceil(gallons_needed)\n",
       "    cost = cost_per_gallon * gallons_to_buy\n",
       "    return cost\n",
       "\n",
       "```"
      ]
     },
     "metadata": {},
     "output_type": "display_data"
    }
   ],
   "source": [
    "# Uncomment to see a hint\n",
    "q5.hint()\n",
    "\n",
    "# Uncomment to view the solution\n",
    "q5.solution()"
   ]
  },
  {
   "cell_type": "markdown",
   "id": "a33b3bd0",
   "metadata": {
    "papermill": {
     "duration": 0.008063,
     "end_time": "2024-11-25T17:48:37.442217",
     "exception": false,
     "start_time": "2024-11-25T17:48:37.434154",
     "status": "completed"
    },
    "tags": []
   },
   "source": [
    "Once your function is verified as correct, run the next code cell to calculate the updated cost of your project."
   ]
  },
  {
   "cell_type": "code",
   "execution_count": 15,
   "id": "4f3019d6",
   "metadata": {
    "execution": {
     "iopub.execute_input": "2024-11-25T17:48:37.460933Z",
     "iopub.status.busy": "2024-11-25T17:48:37.460504Z",
     "iopub.status.idle": "2024-11-25T17:48:37.467621Z",
     "shell.execute_reply": "2024-11-25T17:48:37.466440Z"
    },
    "papermill": {
     "duration": 0.019128,
     "end_time": "2024-11-25T17:48:37.469676",
     "exception": false,
     "start_time": "2024-11-25T17:48:37.450548",
     "status": "completed"
    },
    "tags": []
   },
   "outputs": [
    {
     "data": {
      "text/plain": [
       "30"
      ]
     },
     "execution_count": 15,
     "metadata": {},
     "output_type": "execute_result"
    }
   ],
   "source": [
    "get_actual_cost(432, 144, 400, 15) "
   ]
  },
  {
   "cell_type": "markdown",
   "id": "a5c67eae",
   "metadata": {
    "papermill": {
     "duration": 0.00814,
     "end_time": "2024-11-25T17:48:37.486300",
     "exception": false,
     "start_time": "2024-11-25T17:48:37.478160",
     "status": "completed"
    },
    "tags": []
   },
   "source": [
    "Say you're working with a slightly larger room.  Run the next code cell to calculate the cost of the project."
   ]
  },
  {
   "cell_type": "code",
   "execution_count": 16,
   "id": "5b46b209",
   "metadata": {
    "execution": {
     "iopub.execute_input": "2024-11-25T17:48:37.504776Z",
     "iopub.status.busy": "2024-11-25T17:48:37.504400Z",
     "iopub.status.idle": "2024-11-25T17:48:37.511335Z",
     "shell.execute_reply": "2024-11-25T17:48:37.510290Z"
    },
    "papermill": {
     "duration": 0.018846,
     "end_time": "2024-11-25T17:48:37.513597",
     "exception": false,
     "start_time": "2024-11-25T17:48:37.494751",
     "status": "completed"
    },
    "tags": []
   },
   "outputs": [
    {
     "data": {
      "text/plain": [
       "45"
      ]
     },
     "execution_count": 16,
     "metadata": {},
     "output_type": "execute_result"
    }
   ],
   "source": [
    "get_actual_cost(594, 288, 400, 15)"
   ]
  },
  {
   "cell_type": "code",
   "execution_count": 17,
   "id": "76c7edf1",
   "metadata": {
    "execution": {
     "iopub.execute_input": "2024-11-25T17:48:37.532660Z",
     "iopub.status.busy": "2024-11-25T17:48:37.532241Z",
     "iopub.status.idle": "2024-11-25T17:48:37.539083Z",
     "shell.execute_reply": "2024-11-25T17:48:37.537921Z"
    },
    "papermill": {
     "duration": 0.019074,
     "end_time": "2024-11-25T17:48:37.541452",
     "exception": false,
     "start_time": "2024-11-25T17:48:37.522378",
     "status": "completed"
    },
    "tags": []
   },
   "outputs": [
    {
     "data": {
      "text/plain": [
       "60"
      ]
     },
     "execution_count": 17,
     "metadata": {},
     "output_type": "execute_result"
    }
   ],
   "source": [
    "get_actual_cost(895, 345, 479, 20)"
   ]
  },
  {
   "cell_type": "markdown",
   "id": "bb45c37b",
   "metadata": {
    "papermill": {
     "duration": 0.008664,
     "end_time": "2024-11-25T17:48:37.559062",
     "exception": false,
     "start_time": "2024-11-25T17:48:37.550398",
     "status": "completed"
    },
    "tags": []
   },
   "source": [
    "# Keep going\n",
    "\n",
    "Continue to learn about **[data types](https://www.kaggle.com/alexisbcook/data-types)**."
   ]
  },
  {
   "cell_type": "markdown",
   "id": "d067d1d9",
   "metadata": {
    "papermill": {
     "duration": 0.008489,
     "end_time": "2024-11-25T17:48:37.576425",
     "exception": false,
     "start_time": "2024-11-25T17:48:37.567936",
     "status": "completed"
    },
    "tags": []
   },
   "source": [
    "---\n",
    "\n",
    "\n",
    "\n",
    "\n",
    "*Have questions or comments? Visit the [course discussion forum](https://www.kaggle.com/learn/intro-to-programming/discussion) to chat with other learners.*"
   ]
  }
 ],
 "metadata": {
  "kaggle": {
   "accelerator": "none",
   "dataSources": [],
   "isGpuEnabled": false,
   "isInternetEnabled": false,
   "language": "python",
   "sourceType": "notebook"
  },
  "kernelspec": {
   "display_name": "Python 3",
   "language": "python",
   "name": "python3"
  },
  "language_info": {
   "codemirror_mode": {
    "name": "ipython",
    "version": 3
   },
   "file_extension": ".py",
   "mimetype": "text/x-python",
   "name": "python",
   "nbconvert_exporter": "python",
   "pygments_lexer": "ipython3",
   "version": "3.10.14"
  },
  "papermill": {
   "default_parameters": {},
   "duration": 4.995732,
   "end_time": "2024-11-25T17:48:38.108355",
   "environment_variables": {},
   "exception": null,
   "input_path": "__notebook__.ipynb",
   "output_path": "__notebook__.ipynb",
   "parameters": {},
   "start_time": "2024-11-25T17:48:33.112623",
   "version": "2.6.0"
  }
 },
 "nbformat": 4,
 "nbformat_minor": 5
}
